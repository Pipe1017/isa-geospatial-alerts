{
 "cells": [
  {
   "cell_type": "code",
   "execution_count": 1,
   "id": "f5f90438",
   "metadata": {},
   "outputs": [
    {
     "name": "stdout",
     "output_type": "stream",
     "text": [
      "DataFrame creado con las coordenadas específicas:\n",
      "    ID_Torre   Nombre   Latitud   Longitud\n",
      "0  TORRE_001  Torre 1  6.642631 -71.814700\n",
      "1  TORRE_002  Torre 2  6.858107 -71.902591\n",
      "2  TORRE_003  Torre 3  6.841745 -71.391727\n",
      "3  TORRE_004  Torre 4  6.356094 -70.825931\n",
      "4  TORRE_005  Torre 5  6.710830 -70.666629\n",
      "5  TORRE_006  Torre 6  6.634446 -71.314822\n",
      "6  TORRE_007  Torre 7  6.214130 -71.946536\n",
      "\n",
      "✅ Archivo guardado en: ../data/03_external/ubicacion_torres.csv\n",
      "📍 Total de torres: 7\n"
     ]
    }
   ],
   "source": [
    "import pandas as pd\n",
    "\n",
    "# Crear DataFrame con las coordenadas específicas proporcionadas\n",
    "torres_df = pd.DataFrame({\n",
    "    'ID_Torre': ['TORRE_001', 'TORRE_002', 'TORRE_003', 'TORRE_004', \n",
    "                'TORRE_005', 'TORRE_006', 'TORRE_007'],\n",
    "    'Nombre': ['Torre 1', 'Torre 2', 'Torre 3', 'Torre 4', \n",
    "              'Torre 5', 'Torre 6', 'Torre 7'],\n",
    "    'Latitud': [6.642631, 6.858107, 6.841745, 6.356094, \n",
    "               6.710830, 6.634446, 6.214130],\n",
    "    'Longitud': [-71.814700, -71.902591, -71.391727, -70.825931,\n",
    "                -70.666629, -71.314822, -71.946536]\n",
    "})\n",
    "\n",
    "# Mostrar el DataFrame creado\n",
    "print(\"DataFrame creado con las coordenadas específicas:\")\n",
    "print(torres_df)\n",
    "\n",
    "# Guardar el CSV\n",
    "ruta_torres = \"../data/03_external/ubicacion_torres.csv\"\n",
    "torres_df.to_csv(ruta_torres, index=False)\n",
    "print(f\"\\n✅ Archivo guardado en: {ruta_torres}\")\n",
    "print(f\"📍 Total de torres: {len(torres_df)}\")"
   ]
  },
  {
   "cell_type": "code",
   "execution_count": 2,
   "id": "1c45f647",
   "metadata": {},
   "outputs": [
    {
     "name": "stdout",
     "output_type": "stream",
     "text": [
      "✅ Archivo de torres cargado con éxito.\n",
      "\n",
      "Resultado del cruce de información:\n",
      "    ID_Torre   Nombre   Latitud   Longitud  Amenaza_Valor Amenaza_Nivel\n",
      "0  TORRE_001  Torre 1  6.642631 -71.814700              2         Media\n",
      "1  TORRE_002  Torre 2  6.858107 -71.902591              1          Baja\n",
      "2  TORRE_003  Torre 3  6.841745 -71.391727              1          Baja\n",
      "3  TORRE_004  Torre 4  6.356094 -70.825931              3          Alta\n",
      "4  TORRE_005  Torre 5  6.710830 -70.666629              1          Baja\n",
      "5  TORRE_006  Torre 6  6.634446 -71.314822              2         Media\n",
      "6  TORRE_007  Torre 7  6.214130 -71.946536              3          Alta\n",
      "\n",
      "✅ Datos de torres con nivel de amenaza guardados en: ../data/02_processed/torres_con_amenaza.csv\n"
     ]
    }
   ],
   "source": [
    "import pandas as pd\n",
    "import geopandas as gpd\n",
    "import rasterio\n",
    "from shapely.geometry import Point\n",
    "\n",
    "# 1. Cargar los datos de las torres (necesitarás crear este archivo CSV)\n",
    "# Asegúrate de tener un archivo CSV en: data/03_external/ubicacion_torres.csv\n",
    "# Con las columnas: ID_Torre, Latitud, Longitud\n",
    "try:\n",
    "    torres_df = pd.read_csv(\"../data/03_external/ubicacion_torres.csv\")\n",
    "    print(\"✅ Archivo de torres cargado con éxito.\")\n",
    "except FileNotFoundError:\n",
    "    print(\"⚠️ Archivo no encontrado. Creando un DataFrame de ejemplo.\")\n",
    "    # DataFrame de ejemplo si no tienes el archivo real todavía\n",
    "    torres_df = pd.DataFrame({\n",
    "        'ID_Torre': ['T-101', 'T-102', 'T-103', 'T-104'],\n",
    "        'Latitud': [7.08, 7.10, 7.12, 7.05],\n",
    "        'Longitud': [-72.25, -72.28, -72.30, -72.20]\n",
    "    })\n",
    "\n",
    "# 2. Extraer los valores del raster para cada coordenada de torre\n",
    "coords = [(x, y) for x, y in zip(torres_df.Longitud, torres_df.Latitud)]\n",
    "\n",
    "# Apuntamos a nuestro raster clasificado y reproyectado\n",
    "ruta_raster_final = \"../data/02_processed/amenaza_arauca_clasificado_wgs84.tif\"\n",
    "\n",
    "with rasterio.open(ruta_raster_final) as src:\n",
    "    # 'sample' es un generador, lo convertimos a una lista\n",
    "    valores_raster = [val[0] for val in src.sample(coords)]\n",
    "\n",
    "# 3. Añadir los resultados al DataFrame\n",
    "torres_df['Amenaza_Valor'] = valores_raster\n",
    "\n",
    "# Mapear los valores numéricos a etiquetas legibles\n",
    "mapa_amenaza_labels = {1: 'Baja', 2: 'Media', 3: 'Alta', 0: 'Sin Datos'}\n",
    "torres_df['Amenaza_Nivel'] = torres_df['Amenaza_Valor'].map(mapa_amenaza_labels)\n",
    "\n",
    "# 4. Mostrar el resultado final\n",
    "print(\"\\nResultado del cruce de información:\")\n",
    "print(torres_df)\n",
    "\n",
    "# Guardar el resultado para uso futuro\n",
    "ruta_salida_final = \"../data/02_processed/torres_con_amenaza.csv\"\n",
    "torres_df.to_csv(ruta_salida_final, index=False)\n",
    "print(f\"\\n✅ Datos de torres con nivel de amenaza guardados en: {ruta_salida_final}\")"
   ]
  }
 ],
 "metadata": {
  "kernelspec": {
   "display_name": "venv",
   "language": "python",
   "name": "python3"
  },
  "language_info": {
   "codemirror_mode": {
    "name": "ipython",
    "version": 3
   },
   "file_extension": ".py",
   "mimetype": "text/x-python",
   "name": "python",
   "nbconvert_exporter": "python",
   "pygments_lexer": "ipython3",
   "version": "3.12.12"
  }
 },
 "nbformat": 4,
 "nbformat_minor": 5
}
