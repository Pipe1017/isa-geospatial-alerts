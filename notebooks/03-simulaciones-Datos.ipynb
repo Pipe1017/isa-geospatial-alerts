{
 "cells": [
  {
   "cell_type": "code",
   "execution_count": 2,
   "id": "31ed1ffc",
   "metadata": {},
   "outputs": [
    {
     "name": "stdout",
     "output_type": "stream",
     "text": [
      "✅ Librerías importadas\n",
      "======================================================================\n",
      "📍 TORRES CARGADAS\n",
      "======================================================================\n",
      "\n",
      "Total de torres: 7\n",
      "\n",
      "Primeras torres:\n"
     ]
    },
    {
     "data": {
      "text/html": [
       "<div>\n",
       "<style scoped>\n",
       "    .dataframe tbody tr th:only-of-type {\n",
       "        vertical-align: middle;\n",
       "    }\n",
       "\n",
       "    .dataframe tbody tr th {\n",
       "        vertical-align: top;\n",
       "    }\n",
       "\n",
       "    .dataframe thead th {\n",
       "        text-align: right;\n",
       "    }\n",
       "</style>\n",
       "<table border=\"1\" class=\"dataframe\">\n",
       "  <thead>\n",
       "    <tr style=\"text-align: right;\">\n",
       "      <th></th>\n",
       "      <th>ID_Torre</th>\n",
       "      <th>Nombre</th>\n",
       "      <th>Latitud</th>\n",
       "      <th>Longitud</th>\n",
       "    </tr>\n",
       "  </thead>\n",
       "  <tbody>\n",
       "    <tr>\n",
       "      <th>0</th>\n",
       "      <td>TORRE_001</td>\n",
       "      <td>Torre 1</td>\n",
       "      <td>6.642631</td>\n",
       "      <td>-71.814700</td>\n",
       "    </tr>\n",
       "    <tr>\n",
       "      <th>1</th>\n",
       "      <td>TORRE_002</td>\n",
       "      <td>Torre 2</td>\n",
       "      <td>6.858107</td>\n",
       "      <td>-71.902591</td>\n",
       "    </tr>\n",
       "    <tr>\n",
       "      <th>2</th>\n",
       "      <td>TORRE_003</td>\n",
       "      <td>Torre 3</td>\n",
       "      <td>6.841745</td>\n",
       "      <td>-71.391727</td>\n",
       "    </tr>\n",
       "    <tr>\n",
       "      <th>3</th>\n",
       "      <td>TORRE_004</td>\n",
       "      <td>Torre 4</td>\n",
       "      <td>6.356094</td>\n",
       "      <td>-70.825931</td>\n",
       "    </tr>\n",
       "    <tr>\n",
       "      <th>4</th>\n",
       "      <td>TORRE_005</td>\n",
       "      <td>Torre 5</td>\n",
       "      <td>6.710830</td>\n",
       "      <td>-70.666629</td>\n",
       "    </tr>\n",
       "  </tbody>\n",
       "</table>\n",
       "</div>"
      ],
      "text/plain": [
       "    ID_Torre   Nombre   Latitud   Longitud\n",
       "0  TORRE_001  Torre 1  6.642631 -71.814700\n",
       "1  TORRE_002  Torre 2  6.858107 -71.902591\n",
       "2  TORRE_003  Torre 3  6.841745 -71.391727\n",
       "3  TORRE_004  Torre 4  6.356094 -70.825931\n",
       "4  TORRE_005  Torre 5  6.710830 -70.666629"
      ]
     },
     "metadata": {},
     "output_type": "display_data"
    },
    {
     "name": "stdout",
     "output_type": "stream",
     "text": [
      "\n",
      "✅ Rango de coordenadas:\n",
      "   Latitud:  6.2141 a 6.8581\n",
      "   Longitud: -71.9465 a -70.6666\n",
      "🔍 Verificando cobertura del raster para las torres...\n",
      "\n",
      "📊 Límites del raster:\n",
      "   Norte: 1871234.6213°\n",
      "   Sur:   23958.2629°\n",
      "   Este:  1803779.5814°\n",
      "   Oeste: 451571.1883°\n",
      "\n",
      "📍 Límites de las torres:\n",
      "   Norte: 6.8581°\n",
      "   Sur:   6.2141°\n",
      "   Este:  -70.6666°\n",
      "   Oeste: -71.9465°\n",
      "\n",
      "✅ Torres dentro del raster: 0/7\n",
      "⚠️  Torres FUERA del raster: 7\n",
      "   TORRE_001, TORRE_002, TORRE_003, TORRE_004, TORRE_005, TORRE_006, TORRE_007\n",
      "\n",
      "   💡 Estas torres no tendrán datos de amenaza\n",
      "🔍 Extrayendo valores de amenaza para cada torre...\n",
      "\n",
      "📊 Raster: 43811x59851 píxeles\n",
      "🌍 CRS: PROJCS[\"MAGNA_Transverse_Mercator\",GEOGCS[\"MAGNA-SIRGAS\",DATUM[\"Marco_Geocentrico_Nacional_de_Referencia\",SPHEROID[\"GRS 1980\",6378137,298.257222101004,AUTHORITY[\"EPSG\",\"7019\"]],AUTHORITY[\"EPSG\",\"6686\"]],PRIMEM[\"Greenwich\",0],UNIT[\"degree\",0.0174532925199433,AUTHORITY[\"EPSG\",\"9122\"]],AUTHORITY[\"EPSG\",\"4686\"]],PROJECTION[\"Transverse_Mercator\"],PARAMETER[\"latitude_of_origin\",4.59620041666667],PARAMETER[\"central_meridian\",-74.0775079166667],PARAMETER[\"scale_factor\",1],PARAMETER[\"false_easting\",1000000],PARAMETER[\"false_northing\",1000000],UNIT[\"metre\",1,AUTHORITY[\"EPSG\",\"9001\"]],AXIS[\"Easting\",EAST],AXIS[\"Northing\",NORTH]]\n",
      "📍 Límites: BoundingBox(left=451571.188285814, bottom=23958.262898265617, right=1803779.5814158428, top=1871234.6212837244)\n",
      "\n",
      "   ⚠️  TORRE_001: Sin datos en esta ubicación\n",
      "   ⚠️  TORRE_002: Sin datos en esta ubicación\n",
      "   ⚠️  TORRE_003: Sin datos en esta ubicación\n",
      "   ⚠️  TORRE_004: Sin datos en esta ubicación\n",
      "   ⚠️  TORRE_005: Sin datos en esta ubicación\n",
      "   ⚠️  TORRE_006: Sin datos en esta ubicación\n",
      "   ⚠️  TORRE_007: Sin datos en esta ubicación\n",
      "\n",
      "❌ No se encontraron datos válidos para ninguna torre\n",
      "   Verifica que las coordenadas estén dentro del área del raster\n",
      "\n",
      "✅ Valores de amenaza extraídos:\n",
      "\n"
     ]
    },
    {
     "data": {
      "text/html": [
       "<div>\n",
       "<style scoped>\n",
       "    .dataframe tbody tr th:only-of-type {\n",
       "        vertical-align: middle;\n",
       "    }\n",
       "\n",
       "    .dataframe tbody tr th {\n",
       "        vertical-align: top;\n",
       "    }\n",
       "\n",
       "    .dataframe thead th {\n",
       "        text-align: right;\n",
       "    }\n",
       "</style>\n",
       "<table border=\"1\" class=\"dataframe\">\n",
       "  <thead>\n",
       "    <tr style=\"text-align: right;\">\n",
       "      <th></th>\n",
       "      <th>ID_Torre</th>\n",
       "      <th>Nombre</th>\n",
       "      <th>Latitud</th>\n",
       "      <th>Longitud</th>\n",
       "      <th>Amenaza_Valor_Continuo</th>\n",
       "      <th>Amenaza_Nivel</th>\n",
       "    </tr>\n",
       "  </thead>\n",
       "  <tbody>\n",
       "    <tr>\n",
       "      <th>0</th>\n",
       "      <td>TORRE_001</td>\n",
       "      <td>Torre 1</td>\n",
       "      <td>6.642631</td>\n",
       "      <td>-71.814700</td>\n",
       "      <td>NaN</td>\n",
       "      <td>Sin Datos</td>\n",
       "    </tr>\n",
       "    <tr>\n",
       "      <th>1</th>\n",
       "      <td>TORRE_002</td>\n",
       "      <td>Torre 2</td>\n",
       "      <td>6.858107</td>\n",
       "      <td>-71.902591</td>\n",
       "      <td>NaN</td>\n",
       "      <td>Sin Datos</td>\n",
       "    </tr>\n",
       "    <tr>\n",
       "      <th>2</th>\n",
       "      <td>TORRE_003</td>\n",
       "      <td>Torre 3</td>\n",
       "      <td>6.841745</td>\n",
       "      <td>-71.391727</td>\n",
       "      <td>NaN</td>\n",
       "      <td>Sin Datos</td>\n",
       "    </tr>\n",
       "    <tr>\n",
       "      <th>3</th>\n",
       "      <td>TORRE_004</td>\n",
       "      <td>Torre 4</td>\n",
       "      <td>6.356094</td>\n",
       "      <td>-70.825931</td>\n",
       "      <td>NaN</td>\n",
       "      <td>Sin Datos</td>\n",
       "    </tr>\n",
       "    <tr>\n",
       "      <th>4</th>\n",
       "      <td>TORRE_005</td>\n",
       "      <td>Torre 5</td>\n",
       "      <td>6.710830</td>\n",
       "      <td>-70.666629</td>\n",
       "      <td>NaN</td>\n",
       "      <td>Sin Datos</td>\n",
       "    </tr>\n",
       "    <tr>\n",
       "      <th>5</th>\n",
       "      <td>TORRE_006</td>\n",
       "      <td>Torre 6</td>\n",
       "      <td>6.634446</td>\n",
       "      <td>-71.314822</td>\n",
       "      <td>NaN</td>\n",
       "      <td>Sin Datos</td>\n",
       "    </tr>\n",
       "    <tr>\n",
       "      <th>6</th>\n",
       "      <td>TORRE_007</td>\n",
       "      <td>Torre 7</td>\n",
       "      <td>6.214130</td>\n",
       "      <td>-71.946536</td>\n",
       "      <td>NaN</td>\n",
       "      <td>Sin Datos</td>\n",
       "    </tr>\n",
       "  </tbody>\n",
       "</table>\n",
       "</div>"
      ],
      "text/plain": [
       "    ID_Torre   Nombre   Latitud   Longitud  Amenaza_Valor_Continuo  \\\n",
       "0  TORRE_001  Torre 1  6.642631 -71.814700                     NaN   \n",
       "1  TORRE_002  Torre 2  6.858107 -71.902591                     NaN   \n",
       "2  TORRE_003  Torre 3  6.841745 -71.391727                     NaN   \n",
       "3  TORRE_004  Torre 4  6.356094 -70.825931                     NaN   \n",
       "4  TORRE_005  Torre 5  6.710830 -70.666629                     NaN   \n",
       "5  TORRE_006  Torre 6  6.634446 -71.314822                     NaN   \n",
       "6  TORRE_007  Torre 7  6.214130 -71.946536                     NaN   \n",
       "\n",
       "  Amenaza_Nivel  \n",
       "0     Sin Datos  \n",
       "1     Sin Datos  \n",
       "2     Sin Datos  \n",
       "3     Sin Datos  \n",
       "4     Sin Datos  \n",
       "5     Sin Datos  \n",
       "6     Sin Datos  "
      ]
     },
     "metadata": {},
     "output_type": "display_data"
    },
    {
     "name": "stdout",
     "output_type": "stream",
     "text": [
      "\n",
      "📊 Distribución de amenaza en torres:\n",
      "   ⚪ Sin Datos: 7 torres\n",
      "\n",
      "⚠️  ADVERTENCIA: 7 torre(s) sin datos\n",
      "   Posibles causas:\n",
      "   • Las coordenadas están fuera del área cubierta por el raster\n",
      "   • Error en el sistema de coordenadas (CRS)\n",
      "   • Valores NoData en esas ubicaciones del raster\n",
      "\n",
      "   Solución: Verifica las coordenadas o usa un raster que cubra toda el área\n",
      "🌧️  Obteniendo datos de precipitación para cada torre...\n",
      "   (Esto puede tomar 30-60 segundos)\n",
      "\n",
      "   📡 TORRE_001: Torre 1... ✅ 32.0mm (72h)\n",
      "   📡 TORRE_002: Torre 2... ✅ 46.3mm (72h)\n",
      "   📡 TORRE_003: Torre 3... ✅ 34.3mm (72h)\n",
      "   📡 TORRE_004: Torre 4... ✅ 31.5mm (72h)\n",
      "   📡 TORRE_005: Torre 5... ✅ 27.7mm (72h)\n",
      "   📡 TORRE_006: Torre 6... ✅ 35.8mm (72h)\n",
      "   📡 TORRE_007: Torre 7... ✅ 40.6mm (72h)\n",
      "\n",
      "✅ Datos de precipitación obtenidos\n",
      "======================================================================\n",
      "🚨 NIVEL DE ALERTA CALCULADO PARA CADA TORRE\n",
      "======================================================================\n",
      "\n"
     ]
    },
    {
     "data": {
      "text/html": [
       "<style type=\"text/css\">\n",
       "#T_d4792_row0_col3 {\n",
       "  background-color: #caddf0;\n",
       "  color: #000000;\n",
       "}\n",
       "#T_d4792_row1_col3 {\n",
       "  background-color: #08306b;\n",
       "  color: #f1f1f1;\n",
       "}\n",
       "#T_d4792_row2_col3 {\n",
       "  background-color: #a5cde3;\n",
       "  color: #000000;\n",
       "}\n",
       "#T_d4792_row3_col3 {\n",
       "  background-color: #cfe1f2;\n",
       "  color: #000000;\n",
       "}\n",
       "#T_d4792_row4_col3 {\n",
       "  background-color: #f7fbff;\n",
       "  color: #000000;\n",
       "}\n",
       "#T_d4792_row5_col3 {\n",
       "  background-color: #85bcdc;\n",
       "  color: #000000;\n",
       "}\n",
       "#T_d4792_row6_col3 {\n",
       "  background-color: #3080bd;\n",
       "  color: #f1f1f1;\n",
       "}\n",
       "</style>\n",
       "<table id=\"T_d4792\">\n",
       "  <thead>\n",
       "    <tr>\n",
       "      <th class=\"blank level0\" >&nbsp;</th>\n",
       "      <th id=\"T_d4792_level0_col0\" class=\"col_heading level0 col0\" >ID_Torre</th>\n",
       "      <th id=\"T_d4792_level0_col1\" class=\"col_heading level0 col1\" >Nombre</th>\n",
       "      <th id=\"T_d4792_level0_col2\" class=\"col_heading level0 col2\" >Amenaza_Nivel</th>\n",
       "      <th id=\"T_d4792_level0_col3\" class=\"col_heading level0 col3\" >Lluvia_72h</th>\n",
       "      <th id=\"T_d4792_level0_col4\" class=\"col_heading level0 col4\" >Lluvia_24h</th>\n",
       "      <th id=\"T_d4792_level0_col5\" class=\"col_heading level0 col5\" >Emoji_Alerta</th>\n",
       "      <th id=\"T_d4792_level0_col6\" class=\"col_heading level0 col6\" >Nivel_Alerta</th>\n",
       "    </tr>\n",
       "  </thead>\n",
       "  <tbody>\n",
       "    <tr>\n",
       "      <th id=\"T_d4792_level0_row0\" class=\"row_heading level0 row0\" >0</th>\n",
       "      <td id=\"T_d4792_row0_col0\" class=\"data row0 col0\" >TORRE_001</td>\n",
       "      <td id=\"T_d4792_row0_col1\" class=\"data row0 col1\" >Torre 1</td>\n",
       "      <td id=\"T_d4792_row0_col2\" class=\"data row0 col2\" >Sin Datos</td>\n",
       "      <td id=\"T_d4792_row0_col3\" class=\"data row0 col3\" >32.000000</td>\n",
       "      <td id=\"T_d4792_row0_col4\" class=\"data row0 col4\" >8.600000</td>\n",
       "      <td id=\"T_d4792_row0_col5\" class=\"data row0 col5\" >🟢</td>\n",
       "      <td id=\"T_d4792_row0_col6\" class=\"data row0 col6\" >VERDE</td>\n",
       "    </tr>\n",
       "    <tr>\n",
       "      <th id=\"T_d4792_level0_row1\" class=\"row_heading level0 row1\" >1</th>\n",
       "      <td id=\"T_d4792_row1_col0\" class=\"data row1 col0\" >TORRE_002</td>\n",
       "      <td id=\"T_d4792_row1_col1\" class=\"data row1 col1\" >Torre 2</td>\n",
       "      <td id=\"T_d4792_row1_col2\" class=\"data row1 col2\" >Sin Datos</td>\n",
       "      <td id=\"T_d4792_row1_col3\" class=\"data row1 col3\" >46.300000</td>\n",
       "      <td id=\"T_d4792_row1_col4\" class=\"data row1 col4\" >24.000000</td>\n",
       "      <td id=\"T_d4792_row1_col5\" class=\"data row1 col5\" >🟢</td>\n",
       "      <td id=\"T_d4792_row1_col6\" class=\"data row1 col6\" >VERDE</td>\n",
       "    </tr>\n",
       "    <tr>\n",
       "      <th id=\"T_d4792_level0_row2\" class=\"row_heading level0 row2\" >2</th>\n",
       "      <td id=\"T_d4792_row2_col0\" class=\"data row2 col0\" >TORRE_003</td>\n",
       "      <td id=\"T_d4792_row2_col1\" class=\"data row2 col1\" >Torre 3</td>\n",
       "      <td id=\"T_d4792_row2_col2\" class=\"data row2 col2\" >Sin Datos</td>\n",
       "      <td id=\"T_d4792_row2_col3\" class=\"data row2 col3\" >34.300000</td>\n",
       "      <td id=\"T_d4792_row2_col4\" class=\"data row2 col4\" >9.000000</td>\n",
       "      <td id=\"T_d4792_row2_col5\" class=\"data row2 col5\" >🟢</td>\n",
       "      <td id=\"T_d4792_row2_col6\" class=\"data row2 col6\" >VERDE</td>\n",
       "    </tr>\n",
       "    <tr>\n",
       "      <th id=\"T_d4792_level0_row3\" class=\"row_heading level0 row3\" >3</th>\n",
       "      <td id=\"T_d4792_row3_col0\" class=\"data row3 col0\" >TORRE_004</td>\n",
       "      <td id=\"T_d4792_row3_col1\" class=\"data row3 col1\" >Torre 4</td>\n",
       "      <td id=\"T_d4792_row3_col2\" class=\"data row3 col2\" >Sin Datos</td>\n",
       "      <td id=\"T_d4792_row3_col3\" class=\"data row3 col3\" >31.500000</td>\n",
       "      <td id=\"T_d4792_row3_col4\" class=\"data row3 col4\" >10.400000</td>\n",
       "      <td id=\"T_d4792_row3_col5\" class=\"data row3 col5\" >🟢</td>\n",
       "      <td id=\"T_d4792_row3_col6\" class=\"data row3 col6\" >VERDE</td>\n",
       "    </tr>\n",
       "    <tr>\n",
       "      <th id=\"T_d4792_level0_row4\" class=\"row_heading level0 row4\" >4</th>\n",
       "      <td id=\"T_d4792_row4_col0\" class=\"data row4 col0\" >TORRE_005</td>\n",
       "      <td id=\"T_d4792_row4_col1\" class=\"data row4 col1\" >Torre 5</td>\n",
       "      <td id=\"T_d4792_row4_col2\" class=\"data row4 col2\" >Sin Datos</td>\n",
       "      <td id=\"T_d4792_row4_col3\" class=\"data row4 col3\" >27.700000</td>\n",
       "      <td id=\"T_d4792_row4_col4\" class=\"data row4 col4\" >9.900000</td>\n",
       "      <td id=\"T_d4792_row4_col5\" class=\"data row4 col5\" >🟢</td>\n",
       "      <td id=\"T_d4792_row4_col6\" class=\"data row4 col6\" >VERDE</td>\n",
       "    </tr>\n",
       "    <tr>\n",
       "      <th id=\"T_d4792_level0_row5\" class=\"row_heading level0 row5\" >5</th>\n",
       "      <td id=\"T_d4792_row5_col0\" class=\"data row5 col0\" >TORRE_006</td>\n",
       "      <td id=\"T_d4792_row5_col1\" class=\"data row5 col1\" >Torre 6</td>\n",
       "      <td id=\"T_d4792_row5_col2\" class=\"data row5 col2\" >Sin Datos</td>\n",
       "      <td id=\"T_d4792_row5_col3\" class=\"data row5 col3\" >35.800000</td>\n",
       "      <td id=\"T_d4792_row5_col4\" class=\"data row5 col4\" >7.500000</td>\n",
       "      <td id=\"T_d4792_row5_col5\" class=\"data row5 col5\" >🟢</td>\n",
       "      <td id=\"T_d4792_row5_col6\" class=\"data row5 col6\" >VERDE</td>\n",
       "    </tr>\n",
       "    <tr>\n",
       "      <th id=\"T_d4792_level0_row6\" class=\"row_heading level0 row6\" >6</th>\n",
       "      <td id=\"T_d4792_row6_col0\" class=\"data row6 col0\" >TORRE_007</td>\n",
       "      <td id=\"T_d4792_row6_col1\" class=\"data row6 col1\" >Torre 7</td>\n",
       "      <td id=\"T_d4792_row6_col2\" class=\"data row6 col2\" >Sin Datos</td>\n",
       "      <td id=\"T_d4792_row6_col3\" class=\"data row6 col3\" >40.600000</td>\n",
       "      <td id=\"T_d4792_row6_col4\" class=\"data row6 col4\" >10.300000</td>\n",
       "      <td id=\"T_d4792_row6_col5\" class=\"data row6 col5\" >🟢</td>\n",
       "      <td id=\"T_d4792_row6_col6\" class=\"data row6 col6\" >VERDE</td>\n",
       "    </tr>\n",
       "  </tbody>\n",
       "</table>\n"
      ],
      "text/plain": [
       "<pandas.io.formats.style.Styler at 0x11f717a10>"
      ]
     },
     "metadata": {},
     "output_type": "display_data"
    },
    {
     "name": "stdout",
     "output_type": "stream",
     "text": [
      "======================================================================\n",
      "📊 RESUMEN EJECUTIVO - SITUACIÓN ACTUAL\n",
      "======================================================================\n",
      "\n",
      "🕐 Fecha y hora: 2025-10-11 20:25:16\n",
      "📍 Total de torres monitoreadas: 7\n",
      "\n",
      "🚨 ALERTAS ACTIVAS:\n",
      "   🔴 ROJAS (Críticas):    0 torres\n",
      "   🟡 AMARILLAS (Precaución): 0 torres\n",
      "   🟢 VERDES (Normal):     7 torres\n",
      "\n",
      "✅ Todas las torres están en estado normal (VERDE)\n"
     ]
    },
    {
     "data": {
      "application/vnd.plotly.v1+json": {
       "config": {
        "plotlyServerURL": "https://plot.ly"
       },
       "data": [
        {
         "hoverinfo": "text",
         "lat": {
          "bdata": "RpVh3A2SGkDs3/WZs24bQD1JumbyXRtAETXR56NsGUAOEMzR49caQONPVDasiRpAs14M5UTbGEA=",
          "dtype": "f8"
         },
         "lon": {
          "bdata": "RwN4CyT0UcB+qgoNxPlRwHR9Hw4S2VHAKnCyDdy0UcAsZK4MqqpRwO2DLAsm1FHAJR+7C5T8UcA=",
          "dtype": "f8"
         },
         "marker": {
          "color": "green",
          "size": {
           "bdata": "CgoKCgoKCg==",
           "dtype": "i1"
          }
         },
         "mode": "markers",
         "name": "Alerta VERDE",
         "text": [
          "<b>TORRE_001: Torre 1</b><br>Amenaza: Sin Datos<br>Lluvia 72h: 32.0mm<br>Alerta: VERDE",
          "<b>TORRE_002: Torre 2</b><br>Amenaza: Sin Datos<br>Lluvia 72h: 46.3mm<br>Alerta: VERDE",
          "<b>TORRE_003: Torre 3</b><br>Amenaza: Sin Datos<br>Lluvia 72h: 34.3mm<br>Alerta: VERDE",
          "<b>TORRE_004: Torre 4</b><br>Amenaza: Sin Datos<br>Lluvia 72h: 31.5mm<br>Alerta: VERDE",
          "<b>TORRE_005: Torre 5</b><br>Amenaza: Sin Datos<br>Lluvia 72h: 27.7mm<br>Alerta: VERDE",
          "<b>TORRE_006: Torre 6</b><br>Amenaza: Sin Datos<br>Lluvia 72h: 35.8mm<br>Alerta: VERDE",
          "<b>TORRE_007: Torre 7</b><br>Amenaza: Sin Datos<br>Lluvia 72h: 40.6mm<br>Alerta: VERDE"
         ],
         "type": "scattermapbox"
        }
       ],
       "layout": {
        "height": 600,
        "mapbox": {
         "center": {
          "lat": 6.608283285714285,
          "lon": -71.40899085714285
         },
         "style": "open-street-map",
         "zoom": 8
        },
        "margin": {
         "b": 0,
         "l": 0,
         "r": 0,
         "t": 40
        },
        "template": {
         "data": {
          "bar": [
           {
            "error_x": {
             "color": "#2a3f5f"
            },
            "error_y": {
             "color": "#2a3f5f"
            },
            "marker": {
             "line": {
              "color": "#E5ECF6",
              "width": 0.5
             },
             "pattern": {
              "fillmode": "overlay",
              "size": 10,
              "solidity": 0.2
             }
            },
            "type": "bar"
           }
          ],
          "barpolar": [
           {
            "marker": {
             "line": {
              "color": "#E5ECF6",
              "width": 0.5
             },
             "pattern": {
              "fillmode": "overlay",
              "size": 10,
              "solidity": 0.2
             }
            },
            "type": "barpolar"
           }
          ],
          "carpet": [
           {
            "aaxis": {
             "endlinecolor": "#2a3f5f",
             "gridcolor": "white",
             "linecolor": "white",
             "minorgridcolor": "white",
             "startlinecolor": "#2a3f5f"
            },
            "baxis": {
             "endlinecolor": "#2a3f5f",
             "gridcolor": "white",
             "linecolor": "white",
             "minorgridcolor": "white",
             "startlinecolor": "#2a3f5f"
            },
            "type": "carpet"
           }
          ],
          "choropleth": [
           {
            "colorbar": {
             "outlinewidth": 0,
             "ticks": ""
            },
            "type": "choropleth"
           }
          ],
          "contour": [
           {
            "colorbar": {
             "outlinewidth": 0,
             "ticks": ""
            },
            "colorscale": [
             [
              0,
              "#0d0887"
             ],
             [
              0.1111111111111111,
              "#46039f"
             ],
             [
              0.2222222222222222,
              "#7201a8"
             ],
             [
              0.3333333333333333,
              "#9c179e"
             ],
             [
              0.4444444444444444,
              "#bd3786"
             ],
             [
              0.5555555555555556,
              "#d8576b"
             ],
             [
              0.6666666666666666,
              "#ed7953"
             ],
             [
              0.7777777777777778,
              "#fb9f3a"
             ],
             [
              0.8888888888888888,
              "#fdca26"
             ],
             [
              1,
              "#f0f921"
             ]
            ],
            "type": "contour"
           }
          ],
          "contourcarpet": [
           {
            "colorbar": {
             "outlinewidth": 0,
             "ticks": ""
            },
            "type": "contourcarpet"
           }
          ],
          "heatmap": [
           {
            "colorbar": {
             "outlinewidth": 0,
             "ticks": ""
            },
            "colorscale": [
             [
              0,
              "#0d0887"
             ],
             [
              0.1111111111111111,
              "#46039f"
             ],
             [
              0.2222222222222222,
              "#7201a8"
             ],
             [
              0.3333333333333333,
              "#9c179e"
             ],
             [
              0.4444444444444444,
              "#bd3786"
             ],
             [
              0.5555555555555556,
              "#d8576b"
             ],
             [
              0.6666666666666666,
              "#ed7953"
             ],
             [
              0.7777777777777778,
              "#fb9f3a"
             ],
             [
              0.8888888888888888,
              "#fdca26"
             ],
             [
              1,
              "#f0f921"
             ]
            ],
            "type": "heatmap"
           }
          ],
          "histogram": [
           {
            "marker": {
             "pattern": {
              "fillmode": "overlay",
              "size": 10,
              "solidity": 0.2
             }
            },
            "type": "histogram"
           }
          ],
          "histogram2d": [
           {
            "colorbar": {
             "outlinewidth": 0,
             "ticks": ""
            },
            "colorscale": [
             [
              0,
              "#0d0887"
             ],
             [
              0.1111111111111111,
              "#46039f"
             ],
             [
              0.2222222222222222,
              "#7201a8"
             ],
             [
              0.3333333333333333,
              "#9c179e"
             ],
             [
              0.4444444444444444,
              "#bd3786"
             ],
             [
              0.5555555555555556,
              "#d8576b"
             ],
             [
              0.6666666666666666,
              "#ed7953"
             ],
             [
              0.7777777777777778,
              "#fb9f3a"
             ],
             [
              0.8888888888888888,
              "#fdca26"
             ],
             [
              1,
              "#f0f921"
             ]
            ],
            "type": "histogram2d"
           }
          ],
          "histogram2dcontour": [
           {
            "colorbar": {
             "outlinewidth": 0,
             "ticks": ""
            },
            "colorscale": [
             [
              0,
              "#0d0887"
             ],
             [
              0.1111111111111111,
              "#46039f"
             ],
             [
              0.2222222222222222,
              "#7201a8"
             ],
             [
              0.3333333333333333,
              "#9c179e"
             ],
             [
              0.4444444444444444,
              "#bd3786"
             ],
             [
              0.5555555555555556,
              "#d8576b"
             ],
             [
              0.6666666666666666,
              "#ed7953"
             ],
             [
              0.7777777777777778,
              "#fb9f3a"
             ],
             [
              0.8888888888888888,
              "#fdca26"
             ],
             [
              1,
              "#f0f921"
             ]
            ],
            "type": "histogram2dcontour"
           }
          ],
          "mesh3d": [
           {
            "colorbar": {
             "outlinewidth": 0,
             "ticks": ""
            },
            "type": "mesh3d"
           }
          ],
          "parcoords": [
           {
            "line": {
             "colorbar": {
              "outlinewidth": 0,
              "ticks": ""
             }
            },
            "type": "parcoords"
           }
          ],
          "pie": [
           {
            "automargin": true,
            "type": "pie"
           }
          ],
          "scatter": [
           {
            "fillpattern": {
             "fillmode": "overlay",
             "size": 10,
             "solidity": 0.2
            },
            "type": "scatter"
           }
          ],
          "scatter3d": [
           {
            "line": {
             "colorbar": {
              "outlinewidth": 0,
              "ticks": ""
             }
            },
            "marker": {
             "colorbar": {
              "outlinewidth": 0,
              "ticks": ""
             }
            },
            "type": "scatter3d"
           }
          ],
          "scattercarpet": [
           {
            "marker": {
             "colorbar": {
              "outlinewidth": 0,
              "ticks": ""
             }
            },
            "type": "scattercarpet"
           }
          ],
          "scattergeo": [
           {
            "marker": {
             "colorbar": {
              "outlinewidth": 0,
              "ticks": ""
             }
            },
            "type": "scattergeo"
           }
          ],
          "scattergl": [
           {
            "marker": {
             "colorbar": {
              "outlinewidth": 0,
              "ticks": ""
             }
            },
            "type": "scattergl"
           }
          ],
          "scattermap": [
           {
            "marker": {
             "colorbar": {
              "outlinewidth": 0,
              "ticks": ""
             }
            },
            "type": "scattermap"
           }
          ],
          "scattermapbox": [
           {
            "marker": {
             "colorbar": {
              "outlinewidth": 0,
              "ticks": ""
             }
            },
            "type": "scattermapbox"
           }
          ],
          "scatterpolar": [
           {
            "marker": {
             "colorbar": {
              "outlinewidth": 0,
              "ticks": ""
             }
            },
            "type": "scatterpolar"
           }
          ],
          "scatterpolargl": [
           {
            "marker": {
             "colorbar": {
              "outlinewidth": 0,
              "ticks": ""
             }
            },
            "type": "scatterpolargl"
           }
          ],
          "scatterternary": [
           {
            "marker": {
             "colorbar": {
              "outlinewidth": 0,
              "ticks": ""
             }
            },
            "type": "scatterternary"
           }
          ],
          "surface": [
           {
            "colorbar": {
             "outlinewidth": 0,
             "ticks": ""
            },
            "colorscale": [
             [
              0,
              "#0d0887"
             ],
             [
              0.1111111111111111,
              "#46039f"
             ],
             [
              0.2222222222222222,
              "#7201a8"
             ],
             [
              0.3333333333333333,
              "#9c179e"
             ],
             [
              0.4444444444444444,
              "#bd3786"
             ],
             [
              0.5555555555555556,
              "#d8576b"
             ],
             [
              0.6666666666666666,
              "#ed7953"
             ],
             [
              0.7777777777777778,
              "#fb9f3a"
             ],
             [
              0.8888888888888888,
              "#fdca26"
             ],
             [
              1,
              "#f0f921"
             ]
            ],
            "type": "surface"
           }
          ],
          "table": [
           {
            "cells": {
             "fill": {
              "color": "#EBF0F8"
             },
             "line": {
              "color": "white"
             }
            },
            "header": {
             "fill": {
              "color": "#C8D4E3"
             },
             "line": {
              "color": "white"
             }
            },
            "type": "table"
           }
          ]
         },
         "layout": {
          "annotationdefaults": {
           "arrowcolor": "#2a3f5f",
           "arrowhead": 0,
           "arrowwidth": 1
          },
          "autotypenumbers": "strict",
          "coloraxis": {
           "colorbar": {
            "outlinewidth": 0,
            "ticks": ""
           }
          },
          "colorscale": {
           "diverging": [
            [
             0,
             "#8e0152"
            ],
            [
             0.1,
             "#c51b7d"
            ],
            [
             0.2,
             "#de77ae"
            ],
            [
             0.3,
             "#f1b6da"
            ],
            [
             0.4,
             "#fde0ef"
            ],
            [
             0.5,
             "#f7f7f7"
            ],
            [
             0.6,
             "#e6f5d0"
            ],
            [
             0.7,
             "#b8e186"
            ],
            [
             0.8,
             "#7fbc41"
            ],
            [
             0.9,
             "#4d9221"
            ],
            [
             1,
             "#276419"
            ]
           ],
           "sequential": [
            [
             0,
             "#0d0887"
            ],
            [
             0.1111111111111111,
             "#46039f"
            ],
            [
             0.2222222222222222,
             "#7201a8"
            ],
            [
             0.3333333333333333,
             "#9c179e"
            ],
            [
             0.4444444444444444,
             "#bd3786"
            ],
            [
             0.5555555555555556,
             "#d8576b"
            ],
            [
             0.6666666666666666,
             "#ed7953"
            ],
            [
             0.7777777777777778,
             "#fb9f3a"
            ],
            [
             0.8888888888888888,
             "#fdca26"
            ],
            [
             1,
             "#f0f921"
            ]
           ],
           "sequentialminus": [
            [
             0,
             "#0d0887"
            ],
            [
             0.1111111111111111,
             "#46039f"
            ],
            [
             0.2222222222222222,
             "#7201a8"
            ],
            [
             0.3333333333333333,
             "#9c179e"
            ],
            [
             0.4444444444444444,
             "#bd3786"
            ],
            [
             0.5555555555555556,
             "#d8576b"
            ],
            [
             0.6666666666666666,
             "#ed7953"
            ],
            [
             0.7777777777777778,
             "#fb9f3a"
            ],
            [
             0.8888888888888888,
             "#fdca26"
            ],
            [
             1,
             "#f0f921"
            ]
           ]
          },
          "colorway": [
           "#636efa",
           "#EF553B",
           "#00cc96",
           "#ab63fa",
           "#FFA15A",
           "#19d3f3",
           "#FF6692",
           "#B6E880",
           "#FF97FF",
           "#FECB52"
          ],
          "font": {
           "color": "#2a3f5f"
          },
          "geo": {
           "bgcolor": "white",
           "lakecolor": "white",
           "landcolor": "#E5ECF6",
           "showlakes": true,
           "showland": true,
           "subunitcolor": "white"
          },
          "hoverlabel": {
           "align": "left"
          },
          "hovermode": "closest",
          "mapbox": {
           "style": "light"
          },
          "paper_bgcolor": "white",
          "plot_bgcolor": "#E5ECF6",
          "polar": {
           "angularaxis": {
            "gridcolor": "white",
            "linecolor": "white",
            "ticks": ""
           },
           "bgcolor": "#E5ECF6",
           "radialaxis": {
            "gridcolor": "white",
            "linecolor": "white",
            "ticks": ""
           }
          },
          "scene": {
           "xaxis": {
            "backgroundcolor": "#E5ECF6",
            "gridcolor": "white",
            "gridwidth": 2,
            "linecolor": "white",
            "showbackground": true,
            "ticks": "",
            "zerolinecolor": "white"
           },
           "yaxis": {
            "backgroundcolor": "#E5ECF6",
            "gridcolor": "white",
            "gridwidth": 2,
            "linecolor": "white",
            "showbackground": true,
            "ticks": "",
            "zerolinecolor": "white"
           },
           "zaxis": {
            "backgroundcolor": "#E5ECF6",
            "gridcolor": "white",
            "gridwidth": 2,
            "linecolor": "white",
            "showbackground": true,
            "ticks": "",
            "zerolinecolor": "white"
           }
          },
          "shapedefaults": {
           "line": {
            "color": "#2a3f5f"
           }
          },
          "ternary": {
           "aaxis": {
            "gridcolor": "white",
            "linecolor": "white",
            "ticks": ""
           },
           "baxis": {
            "gridcolor": "white",
            "linecolor": "white",
            "ticks": ""
           },
           "bgcolor": "#E5ECF6",
           "caxis": {
            "gridcolor": "white",
            "linecolor": "white",
            "ticks": ""
           }
          },
          "title": {
           "x": 0.05
          },
          "xaxis": {
           "automargin": true,
           "gridcolor": "white",
           "linecolor": "white",
           "ticks": "",
           "title": {
            "standoff": 15
           },
           "zerolinecolor": "white",
           "zerolinewidth": 2
          },
          "yaxis": {
           "automargin": true,
           "gridcolor": "white",
           "linecolor": "white",
           "ticks": "",
           "title": {
            "standoff": 15
           },
           "zerolinecolor": "white",
           "zerolinewidth": 2
          }
         }
        },
        "title": {
         "font": {
          "color": "black",
          "size": 18
         },
         "text": "Mapa de Torres con Nivel de Alerta - 2025-10-11 20:25"
        }
       }
      }
     },
     "metadata": {},
     "output_type": "display_data"
    },
    {
     "name": "stdout",
     "output_type": "stream",
     "text": [
      "🗺️  Mapa interactivo generado\n",
      "   💡 Haz zoom y haz clic en los marcadores para ver detalles\n"
     ]
    },
    {
     "data": {
      "application/vnd.plotly.v1+json": {
       "config": {
        "plotlyServerURL": "https://plot.ly"
       },
       "data": [
        {
         "marker": {
          "color": [
           "green",
           "green",
           "green",
           "green",
           "green",
           "green",
           "green"
          ]
         },
         "name": "Lluvia 72h",
         "text": {
          "bdata": "AAAAAAAAQEBmZmZmZiZHQGZmZmZmJkFAAAAAAACAP0AzMzMzM7M7QGZmZmZm5kFAzczMzMxMREA=",
          "dtype": "f8"
         },
         "textposition": "outside",
         "type": "bar",
         "x": [
          "TORRE_001",
          "TORRE_002",
          "TORRE_003",
          "TORRE_004",
          "TORRE_005",
          "TORRE_006",
          "TORRE_007"
         ],
         "y": {
          "bdata": "AAAAAAAAQEBmZmZmZiZHQGZmZmZmJkFA//////9/P0A0MzMzM7M7QGZmZmZm5kFAzczMzMxMREA=",
          "dtype": "f8"
         }
        }
       ],
       "layout": {
        "annotations": [
         {
          "showarrow": false,
          "text": "Umbral ROJO (Alta: 100mm)",
          "x": 1,
          "xanchor": "left",
          "xref": "x domain",
          "y": 100,
          "yanchor": "middle",
          "yref": "y"
         },
         {
          "showarrow": false,
          "text": "Umbral AMARILLO (Alta: 60mm)",
          "x": 1,
          "xanchor": "left",
          "xref": "x domain",
          "y": 60,
          "yanchor": "middle",
          "yref": "y"
         }
        ],
        "height": 500,
        "hovermode": "x unified",
        "shapes": [
         {
          "line": {
           "color": "red",
           "dash": "dash"
          },
          "type": "line",
          "x0": 0,
          "x1": 1,
          "xref": "x domain",
          "y0": 100,
          "y1": 100,
          "yref": "y"
         },
         {
          "line": {
           "color": "orange",
           "dash": "dash"
          },
          "type": "line",
          "x0": 0,
          "x1": 1,
          "xref": "x domain",
          "y0": 60,
          "y1": 60,
          "yref": "y"
         }
        ],
        "showlegend": false,
        "template": {
         "data": {
          "bar": [
           {
            "error_x": {
             "color": "#2a3f5f"
            },
            "error_y": {
             "color": "#2a3f5f"
            },
            "marker": {
             "line": {
              "color": "#E5ECF6",
              "width": 0.5
             },
             "pattern": {
              "fillmode": "overlay",
              "size": 10,
              "solidity": 0.2
             }
            },
            "type": "bar"
           }
          ],
          "barpolar": [
           {
            "marker": {
             "line": {
              "color": "#E5ECF6",
              "width": 0.5
             },
             "pattern": {
              "fillmode": "overlay",
              "size": 10,
              "solidity": 0.2
             }
            },
            "type": "barpolar"
           }
          ],
          "carpet": [
           {
            "aaxis": {
             "endlinecolor": "#2a3f5f",
             "gridcolor": "white",
             "linecolor": "white",
             "minorgridcolor": "white",
             "startlinecolor": "#2a3f5f"
            },
            "baxis": {
             "endlinecolor": "#2a3f5f",
             "gridcolor": "white",
             "linecolor": "white",
             "minorgridcolor": "white",
             "startlinecolor": "#2a3f5f"
            },
            "type": "carpet"
           }
          ],
          "choropleth": [
           {
            "colorbar": {
             "outlinewidth": 0,
             "ticks": ""
            },
            "type": "choropleth"
           }
          ],
          "contour": [
           {
            "colorbar": {
             "outlinewidth": 0,
             "ticks": ""
            },
            "colorscale": [
             [
              0,
              "#0d0887"
             ],
             [
              0.1111111111111111,
              "#46039f"
             ],
             [
              0.2222222222222222,
              "#7201a8"
             ],
             [
              0.3333333333333333,
              "#9c179e"
             ],
             [
              0.4444444444444444,
              "#bd3786"
             ],
             [
              0.5555555555555556,
              "#d8576b"
             ],
             [
              0.6666666666666666,
              "#ed7953"
             ],
             [
              0.7777777777777778,
              "#fb9f3a"
             ],
             [
              0.8888888888888888,
              "#fdca26"
             ],
             [
              1,
              "#f0f921"
             ]
            ],
            "type": "contour"
           }
          ],
          "contourcarpet": [
           {
            "colorbar": {
             "outlinewidth": 0,
             "ticks": ""
            },
            "type": "contourcarpet"
           }
          ],
          "heatmap": [
           {
            "colorbar": {
             "outlinewidth": 0,
             "ticks": ""
            },
            "colorscale": [
             [
              0,
              "#0d0887"
             ],
             [
              0.1111111111111111,
              "#46039f"
             ],
             [
              0.2222222222222222,
              "#7201a8"
             ],
             [
              0.3333333333333333,
              "#9c179e"
             ],
             [
              0.4444444444444444,
              "#bd3786"
             ],
             [
              0.5555555555555556,
              "#d8576b"
             ],
             [
              0.6666666666666666,
              "#ed7953"
             ],
             [
              0.7777777777777778,
              "#fb9f3a"
             ],
             [
              0.8888888888888888,
              "#fdca26"
             ],
             [
              1,
              "#f0f921"
             ]
            ],
            "type": "heatmap"
           }
          ],
          "histogram": [
           {
            "marker": {
             "pattern": {
              "fillmode": "overlay",
              "size": 10,
              "solidity": 0.2
             }
            },
            "type": "histogram"
           }
          ],
          "histogram2d": [
           {
            "colorbar": {
             "outlinewidth": 0,
             "ticks": ""
            },
            "colorscale": [
             [
              0,
              "#0d0887"
             ],
             [
              0.1111111111111111,
              "#46039f"
             ],
             [
              0.2222222222222222,
              "#7201a8"
             ],
             [
              0.3333333333333333,
              "#9c179e"
             ],
             [
              0.4444444444444444,
              "#bd3786"
             ],
             [
              0.5555555555555556,
              "#d8576b"
             ],
             [
              0.6666666666666666,
              "#ed7953"
             ],
             [
              0.7777777777777778,
              "#fb9f3a"
             ],
             [
              0.8888888888888888,
              "#fdca26"
             ],
             [
              1,
              "#f0f921"
             ]
            ],
            "type": "histogram2d"
           }
          ],
          "histogram2dcontour": [
           {
            "colorbar": {
             "outlinewidth": 0,
             "ticks": ""
            },
            "colorscale": [
             [
              0,
              "#0d0887"
             ],
             [
              0.1111111111111111,
              "#46039f"
             ],
             [
              0.2222222222222222,
              "#7201a8"
             ],
             [
              0.3333333333333333,
              "#9c179e"
             ],
             [
              0.4444444444444444,
              "#bd3786"
             ],
             [
              0.5555555555555556,
              "#d8576b"
             ],
             [
              0.6666666666666666,
              "#ed7953"
             ],
             [
              0.7777777777777778,
              "#fb9f3a"
             ],
             [
              0.8888888888888888,
              "#fdca26"
             ],
             [
              1,
              "#f0f921"
             ]
            ],
            "type": "histogram2dcontour"
           }
          ],
          "mesh3d": [
           {
            "colorbar": {
             "outlinewidth": 0,
             "ticks": ""
            },
            "type": "mesh3d"
           }
          ],
          "parcoords": [
           {
            "line": {
             "colorbar": {
              "outlinewidth": 0,
              "ticks": ""
             }
            },
            "type": "parcoords"
           }
          ],
          "pie": [
           {
            "automargin": true,
            "type": "pie"
           }
          ],
          "scatter": [
           {
            "fillpattern": {
             "fillmode": "overlay",
             "size": 10,
             "solidity": 0.2
            },
            "type": "scatter"
           }
          ],
          "scatter3d": [
           {
            "line": {
             "colorbar": {
              "outlinewidth": 0,
              "ticks": ""
             }
            },
            "marker": {
             "colorbar": {
              "outlinewidth": 0,
              "ticks": ""
             }
            },
            "type": "scatter3d"
           }
          ],
          "scattercarpet": [
           {
            "marker": {
             "colorbar": {
              "outlinewidth": 0,
              "ticks": ""
             }
            },
            "type": "scattercarpet"
           }
          ],
          "scattergeo": [
           {
            "marker": {
             "colorbar": {
              "outlinewidth": 0,
              "ticks": ""
             }
            },
            "type": "scattergeo"
           }
          ],
          "scattergl": [
           {
            "marker": {
             "colorbar": {
              "outlinewidth": 0,
              "ticks": ""
             }
            },
            "type": "scattergl"
           }
          ],
          "scattermap": [
           {
            "marker": {
             "colorbar": {
              "outlinewidth": 0,
              "ticks": ""
             }
            },
            "type": "scattermap"
           }
          ],
          "scattermapbox": [
           {
            "marker": {
             "colorbar": {
              "outlinewidth": 0,
              "ticks": ""
             }
            },
            "type": "scattermapbox"
           }
          ],
          "scatterpolar": [
           {
            "marker": {
             "colorbar": {
              "outlinewidth": 0,
              "ticks": ""
             }
            },
            "type": "scatterpolar"
           }
          ],
          "scatterpolargl": [
           {
            "marker": {
             "colorbar": {
              "outlinewidth": 0,
              "ticks": ""
             }
            },
            "type": "scatterpolargl"
           }
          ],
          "scatterternary": [
           {
            "marker": {
             "colorbar": {
              "outlinewidth": 0,
              "ticks": ""
             }
            },
            "type": "scatterternary"
           }
          ],
          "surface": [
           {
            "colorbar": {
             "outlinewidth": 0,
             "ticks": ""
            },
            "colorscale": [
             [
              0,
              "#0d0887"
             ],
             [
              0.1111111111111111,
              "#46039f"
             ],
             [
              0.2222222222222222,
              "#7201a8"
             ],
             [
              0.3333333333333333,
              "#9c179e"
             ],
             [
              0.4444444444444444,
              "#bd3786"
             ],
             [
              0.5555555555555556,
              "#d8576b"
             ],
             [
              0.6666666666666666,
              "#ed7953"
             ],
             [
              0.7777777777777778,
              "#fb9f3a"
             ],
             [
              0.8888888888888888,
              "#fdca26"
             ],
             [
              1,
              "#f0f921"
             ]
            ],
            "type": "surface"
           }
          ],
          "table": [
           {
            "cells": {
             "fill": {
              "color": "#EBF0F8"
             },
             "line": {
              "color": "white"
             }
            },
            "header": {
             "fill": {
              "color": "#C8D4E3"
             },
             "line": {
              "color": "white"
             }
            },
            "type": "table"
           }
          ]
         },
         "layout": {
          "annotationdefaults": {
           "arrowcolor": "#2a3f5f",
           "arrowhead": 0,
           "arrowwidth": 1
          },
          "autotypenumbers": "strict",
          "coloraxis": {
           "colorbar": {
            "outlinewidth": 0,
            "ticks": ""
           }
          },
          "colorscale": {
           "diverging": [
            [
             0,
             "#8e0152"
            ],
            [
             0.1,
             "#c51b7d"
            ],
            [
             0.2,
             "#de77ae"
            ],
            [
             0.3,
             "#f1b6da"
            ],
            [
             0.4,
             "#fde0ef"
            ],
            [
             0.5,
             "#f7f7f7"
            ],
            [
             0.6,
             "#e6f5d0"
            ],
            [
             0.7,
             "#b8e186"
            ],
            [
             0.8,
             "#7fbc41"
            ],
            [
             0.9,
             "#4d9221"
            ],
            [
             1,
             "#276419"
            ]
           ],
           "sequential": [
            [
             0,
             "#0d0887"
            ],
            [
             0.1111111111111111,
             "#46039f"
            ],
            [
             0.2222222222222222,
             "#7201a8"
            ],
            [
             0.3333333333333333,
             "#9c179e"
            ],
            [
             0.4444444444444444,
             "#bd3786"
            ],
            [
             0.5555555555555556,
             "#d8576b"
            ],
            [
             0.6666666666666666,
             "#ed7953"
            ],
            [
             0.7777777777777778,
             "#fb9f3a"
            ],
            [
             0.8888888888888888,
             "#fdca26"
            ],
            [
             1,
             "#f0f921"
            ]
           ],
           "sequentialminus": [
            [
             0,
             "#0d0887"
            ],
            [
             0.1111111111111111,
             "#46039f"
            ],
            [
             0.2222222222222222,
             "#7201a8"
            ],
            [
             0.3333333333333333,
             "#9c179e"
            ],
            [
             0.4444444444444444,
             "#bd3786"
            ],
            [
             0.5555555555555556,
             "#d8576b"
            ],
            [
             0.6666666666666666,
             "#ed7953"
            ],
            [
             0.7777777777777778,
             "#fb9f3a"
            ],
            [
             0.8888888888888888,
             "#fdca26"
            ],
            [
             1,
             "#f0f921"
            ]
           ]
          },
          "colorway": [
           "#636efa",
           "#EF553B",
           "#00cc96",
           "#ab63fa",
           "#FFA15A",
           "#19d3f3",
           "#FF6692",
           "#B6E880",
           "#FF97FF",
           "#FECB52"
          ],
          "font": {
           "color": "#2a3f5f"
          },
          "geo": {
           "bgcolor": "white",
           "lakecolor": "white",
           "landcolor": "#E5ECF6",
           "showlakes": true,
           "showland": true,
           "subunitcolor": "white"
          },
          "hoverlabel": {
           "align": "left"
          },
          "hovermode": "closest",
          "mapbox": {
           "style": "light"
          },
          "paper_bgcolor": "white",
          "plot_bgcolor": "#E5ECF6",
          "polar": {
           "angularaxis": {
            "gridcolor": "white",
            "linecolor": "white",
            "ticks": ""
           },
           "bgcolor": "#E5ECF6",
           "radialaxis": {
            "gridcolor": "white",
            "linecolor": "white",
            "ticks": ""
           }
          },
          "scene": {
           "xaxis": {
            "backgroundcolor": "#E5ECF6",
            "gridcolor": "white",
            "gridwidth": 2,
            "linecolor": "white",
            "showbackground": true,
            "ticks": "",
            "zerolinecolor": "white"
           },
           "yaxis": {
            "backgroundcolor": "#E5ECF6",
            "gridcolor": "white",
            "gridwidth": 2,
            "linecolor": "white",
            "showbackground": true,
            "ticks": "",
            "zerolinecolor": "white"
           },
           "zaxis": {
            "backgroundcolor": "#E5ECF6",
            "gridcolor": "white",
            "gridwidth": 2,
            "linecolor": "white",
            "showbackground": true,
            "ticks": "",
            "zerolinecolor": "white"
           }
          },
          "shapedefaults": {
           "line": {
            "color": "#2a3f5f"
           }
          },
          "ternary": {
           "aaxis": {
            "gridcolor": "white",
            "linecolor": "white",
            "ticks": ""
           },
           "baxis": {
            "gridcolor": "white",
            "linecolor": "white",
            "ticks": ""
           },
           "bgcolor": "#E5ECF6",
           "caxis": {
            "gridcolor": "white",
            "linecolor": "white",
            "ticks": ""
           }
          },
          "title": {
           "x": 0.05
          },
          "xaxis": {
           "automargin": true,
           "gridcolor": "white",
           "linecolor": "white",
           "ticks": "",
           "title": {
            "standoff": 15
           },
           "zerolinecolor": "white",
           "zerolinewidth": 2
          },
          "yaxis": {
           "automargin": true,
           "gridcolor": "white",
           "linecolor": "white",
           "ticks": "",
           "title": {
            "standoff": 15
           },
           "zerolinecolor": "white",
           "zerolinewidth": 2
          }
         }
        },
        "title": {
         "font": {
          "color": "black",
          "size": 16
         },
         "text": "Precipitación Acumulada (72h) por Torre"
        },
        "xaxis": {
         "title": {
          "text": "Torre"
         }
        },
        "yaxis": {
         "title": {
          "text": "Precipitación (mm)"
         }
        }
       }
      }
     },
     "metadata": {},
     "output_type": "display_data"
    },
    {
     "name": "stdout",
     "output_type": "stream",
     "text": [
      "📊 Gráfico de barras generado\n"
     ]
    },
    {
     "data": {
      "application/vnd.plotly.v1+json": {
       "config": {
        "plotlyServerURL": "https://plot.ly"
       },
       "data": [
        {
         "customdata": [
          [
           "TORRE_001",
           "Torre 1",
           "Sin Datos"
          ],
          [
           "TORRE_002",
           "Torre 2",
           "Sin Datos"
          ],
          [
           "TORRE_003",
           "Torre 3",
           "Sin Datos"
          ],
          [
           "TORRE_004",
           "Torre 4",
           "Sin Datos"
          ],
          [
           "TORRE_005",
           "Torre 5",
           "Sin Datos"
          ],
          [
           "TORRE_006",
           "Torre 6",
           "Sin Datos"
          ],
          [
           "TORRE_007",
           "Torre 7",
           "Sin Datos"
          ]
         ],
         "hovertemplate": "Nivel_Alerta=VERDE<br>Precipitación Acumulada 72h (mm)=%{x}<br>Nivel de Amenaza Estática=%{y}<br>Prioridad=%{marker.size}<br>ID_Torre=%{customdata[0]}<br>Nombre=%{customdata[1]}<br>Amenaza_Nivel=%{customdata[2]}<extra></extra>",
         "legendgroup": "VERDE",
         "marker": {
          "color": "green",
          "size": {
           "bdata": "AQEBAQEBAQ==",
           "dtype": "i1"
          },
          "sizemode": "area",
          "sizeref": 0.0025,
          "symbol": "circle"
         },
         "mode": "markers",
         "name": "VERDE",
         "orientation": "v",
         "showlegend": true,
         "type": "scatter",
         "x": {
          "bdata": "AAAAAAAAQEBmZmZmZiZHQGZmZmZmJkFA//////9/P0A0MzMzM7M7QGZmZmZm5kFAzczMzMxMREA=",
          "dtype": "f8"
         },
         "xaxis": "x",
         "y": {
          "bdata": "AAAAAAAAAA==",
          "dtype": "i1"
         },
         "yaxis": "y"
        }
       ],
       "layout": {
        "height": 500,
        "legend": {
         "itemsizing": "constant",
         "title": {
          "text": "Nivel_Alerta"
         },
         "tracegroupgap": 0
        },
        "shapes": [
         {
          "fillcolor": "green",
          "line": {
           "width": 0
          },
          "opacity": 0.1,
          "type": "rect",
          "x0": 0,
          "x1": 60,
          "xref": "x",
          "y0": 0,
          "y1": 1,
          "yref": "y domain"
         },
         {
          "fillcolor": "yellow",
          "line": {
           "width": 0
          },
          "opacity": 0.1,
          "type": "rect",
          "x0": 60,
          "x1": 100,
          "xref": "x",
          "y0": 0,
          "y1": 1,
          "yref": "y domain"
         },
         {
          "fillcolor": "red",
          "line": {
           "width": 0
          },
          "opacity": 0.1,
          "type": "rect",
          "x0": 100,
          "x1": 50.93,
          "xref": "x",
          "y0": 0,
          "y1": 1,
          "yref": "y domain"
         }
        ],
        "template": {
         "data": {
          "bar": [
           {
            "error_x": {
             "color": "#2a3f5f"
            },
            "error_y": {
             "color": "#2a3f5f"
            },
            "marker": {
             "line": {
              "color": "#E5ECF6",
              "width": 0.5
             },
             "pattern": {
              "fillmode": "overlay",
              "size": 10,
              "solidity": 0.2
             }
            },
            "type": "bar"
           }
          ],
          "barpolar": [
           {
            "marker": {
             "line": {
              "color": "#E5ECF6",
              "width": 0.5
             },
             "pattern": {
              "fillmode": "overlay",
              "size": 10,
              "solidity": 0.2
             }
            },
            "type": "barpolar"
           }
          ],
          "carpet": [
           {
            "aaxis": {
             "endlinecolor": "#2a3f5f",
             "gridcolor": "white",
             "linecolor": "white",
             "minorgridcolor": "white",
             "startlinecolor": "#2a3f5f"
            },
            "baxis": {
             "endlinecolor": "#2a3f5f",
             "gridcolor": "white",
             "linecolor": "white",
             "minorgridcolor": "white",
             "startlinecolor": "#2a3f5f"
            },
            "type": "carpet"
           }
          ],
          "choropleth": [
           {
            "colorbar": {
             "outlinewidth": 0,
             "ticks": ""
            },
            "type": "choropleth"
           }
          ],
          "contour": [
           {
            "colorbar": {
             "outlinewidth": 0,
             "ticks": ""
            },
            "colorscale": [
             [
              0,
              "#0d0887"
             ],
             [
              0.1111111111111111,
              "#46039f"
             ],
             [
              0.2222222222222222,
              "#7201a8"
             ],
             [
              0.3333333333333333,
              "#9c179e"
             ],
             [
              0.4444444444444444,
              "#bd3786"
             ],
             [
              0.5555555555555556,
              "#d8576b"
             ],
             [
              0.6666666666666666,
              "#ed7953"
             ],
             [
              0.7777777777777778,
              "#fb9f3a"
             ],
             [
              0.8888888888888888,
              "#fdca26"
             ],
             [
              1,
              "#f0f921"
             ]
            ],
            "type": "contour"
           }
          ],
          "contourcarpet": [
           {
            "colorbar": {
             "outlinewidth": 0,
             "ticks": ""
            },
            "type": "contourcarpet"
           }
          ],
          "heatmap": [
           {
            "colorbar": {
             "outlinewidth": 0,
             "ticks": ""
            },
            "colorscale": [
             [
              0,
              "#0d0887"
             ],
             [
              0.1111111111111111,
              "#46039f"
             ],
             [
              0.2222222222222222,
              "#7201a8"
             ],
             [
              0.3333333333333333,
              "#9c179e"
             ],
             [
              0.4444444444444444,
              "#bd3786"
             ],
             [
              0.5555555555555556,
              "#d8576b"
             ],
             [
              0.6666666666666666,
              "#ed7953"
             ],
             [
              0.7777777777777778,
              "#fb9f3a"
             ],
             [
              0.8888888888888888,
              "#fdca26"
             ],
             [
              1,
              "#f0f921"
             ]
            ],
            "type": "heatmap"
           }
          ],
          "histogram": [
           {
            "marker": {
             "pattern": {
              "fillmode": "overlay",
              "size": 10,
              "solidity": 0.2
             }
            },
            "type": "histogram"
           }
          ],
          "histogram2d": [
           {
            "colorbar": {
             "outlinewidth": 0,
             "ticks": ""
            },
            "colorscale": [
             [
              0,
              "#0d0887"
             ],
             [
              0.1111111111111111,
              "#46039f"
             ],
             [
              0.2222222222222222,
              "#7201a8"
             ],
             [
              0.3333333333333333,
              "#9c179e"
             ],
             [
              0.4444444444444444,
              "#bd3786"
             ],
             [
              0.5555555555555556,
              "#d8576b"
             ],
             [
              0.6666666666666666,
              "#ed7953"
             ],
             [
              0.7777777777777778,
              "#fb9f3a"
             ],
             [
              0.8888888888888888,
              "#fdca26"
             ],
             [
              1,
              "#f0f921"
             ]
            ],
            "type": "histogram2d"
           }
          ],
          "histogram2dcontour": [
           {
            "colorbar": {
             "outlinewidth": 0,
             "ticks": ""
            },
            "colorscale": [
             [
              0,
              "#0d0887"
             ],
             [
              0.1111111111111111,
              "#46039f"
             ],
             [
              0.2222222222222222,
              "#7201a8"
             ],
             [
              0.3333333333333333,
              "#9c179e"
             ],
             [
              0.4444444444444444,
              "#bd3786"
             ],
             [
              0.5555555555555556,
              "#d8576b"
             ],
             [
              0.6666666666666666,
              "#ed7953"
             ],
             [
              0.7777777777777778,
              "#fb9f3a"
             ],
             [
              0.8888888888888888,
              "#fdca26"
             ],
             [
              1,
              "#f0f921"
             ]
            ],
            "type": "histogram2dcontour"
           }
          ],
          "mesh3d": [
           {
            "colorbar": {
             "outlinewidth": 0,
             "ticks": ""
            },
            "type": "mesh3d"
           }
          ],
          "parcoords": [
           {
            "line": {
             "colorbar": {
              "outlinewidth": 0,
              "ticks": ""
             }
            },
            "type": "parcoords"
           }
          ],
          "pie": [
           {
            "automargin": true,
            "type": "pie"
           }
          ],
          "scatter": [
           {
            "fillpattern": {
             "fillmode": "overlay",
             "size": 10,
             "solidity": 0.2
            },
            "type": "scatter"
           }
          ],
          "scatter3d": [
           {
            "line": {
             "colorbar": {
              "outlinewidth": 0,
              "ticks": ""
             }
            },
            "marker": {
             "colorbar": {
              "outlinewidth": 0,
              "ticks": ""
             }
            },
            "type": "scatter3d"
           }
          ],
          "scattercarpet": [
           {
            "marker": {
             "colorbar": {
              "outlinewidth": 0,
              "ticks": ""
             }
            },
            "type": "scattercarpet"
           }
          ],
          "scattergeo": [
           {
            "marker": {
             "colorbar": {
              "outlinewidth": 0,
              "ticks": ""
             }
            },
            "type": "scattergeo"
           }
          ],
          "scattergl": [
           {
            "marker": {
             "colorbar": {
              "outlinewidth": 0,
              "ticks": ""
             }
            },
            "type": "scattergl"
           }
          ],
          "scattermap": [
           {
            "marker": {
             "colorbar": {
              "outlinewidth": 0,
              "ticks": ""
             }
            },
            "type": "scattermap"
           }
          ],
          "scattermapbox": [
           {
            "marker": {
             "colorbar": {
              "outlinewidth": 0,
              "ticks": ""
             }
            },
            "type": "scattermapbox"
           }
          ],
          "scatterpolar": [
           {
            "marker": {
             "colorbar": {
              "outlinewidth": 0,
              "ticks": ""
             }
            },
            "type": "scatterpolar"
           }
          ],
          "scatterpolargl": [
           {
            "marker": {
             "colorbar": {
              "outlinewidth": 0,
              "ticks": ""
             }
            },
            "type": "scatterpolargl"
           }
          ],
          "scatterternary": [
           {
            "marker": {
             "colorbar": {
              "outlinewidth": 0,
              "ticks": ""
             }
            },
            "type": "scatterternary"
           }
          ],
          "surface": [
           {
            "colorbar": {
             "outlinewidth": 0,
             "ticks": ""
            },
            "colorscale": [
             [
              0,
              "#0d0887"
             ],
             [
              0.1111111111111111,
              "#46039f"
             ],
             [
              0.2222222222222222,
              "#7201a8"
             ],
             [
              0.3333333333333333,
              "#9c179e"
             ],
             [
              0.4444444444444444,
              "#bd3786"
             ],
             [
              0.5555555555555556,
              "#d8576b"
             ],
             [
              0.6666666666666666,
              "#ed7953"
             ],
             [
              0.7777777777777778,
              "#fb9f3a"
             ],
             [
              0.8888888888888888,
              "#fdca26"
             ],
             [
              1,
              "#f0f921"
             ]
            ],
            "type": "surface"
           }
          ],
          "table": [
           {
            "cells": {
             "fill": {
              "color": "#EBF0F8"
             },
             "line": {
              "color": "white"
             }
            },
            "header": {
             "fill": {
              "color": "#C8D4E3"
             },
             "line": {
              "color": "white"
             }
            },
            "type": "table"
           }
          ]
         },
         "layout": {
          "annotationdefaults": {
           "arrowcolor": "#2a3f5f",
           "arrowhead": 0,
           "arrowwidth": 1
          },
          "autotypenumbers": "strict",
          "coloraxis": {
           "colorbar": {
            "outlinewidth": 0,
            "ticks": ""
           }
          },
          "colorscale": {
           "diverging": [
            [
             0,
             "#8e0152"
            ],
            [
             0.1,
             "#c51b7d"
            ],
            [
             0.2,
             "#de77ae"
            ],
            [
             0.3,
             "#f1b6da"
            ],
            [
             0.4,
             "#fde0ef"
            ],
            [
             0.5,
             "#f7f7f7"
            ],
            [
             0.6,
             "#e6f5d0"
            ],
            [
             0.7,
             "#b8e186"
            ],
            [
             0.8,
             "#7fbc41"
            ],
            [
             0.9,
             "#4d9221"
            ],
            [
             1,
             "#276419"
            ]
           ],
           "sequential": [
            [
             0,
             "#0d0887"
            ],
            [
             0.1111111111111111,
             "#46039f"
            ],
            [
             0.2222222222222222,
             "#7201a8"
            ],
            [
             0.3333333333333333,
             "#9c179e"
            ],
            [
             0.4444444444444444,
             "#bd3786"
            ],
            [
             0.5555555555555556,
             "#d8576b"
            ],
            [
             0.6666666666666666,
             "#ed7953"
            ],
            [
             0.7777777777777778,
             "#fb9f3a"
            ],
            [
             0.8888888888888888,
             "#fdca26"
            ],
            [
             1,
             "#f0f921"
            ]
           ],
           "sequentialminus": [
            [
             0,
             "#0d0887"
            ],
            [
             0.1111111111111111,
             "#46039f"
            ],
            [
             0.2222222222222222,
             "#7201a8"
            ],
            [
             0.3333333333333333,
             "#9c179e"
            ],
            [
             0.4444444444444444,
             "#bd3786"
            ],
            [
             0.5555555555555556,
             "#d8576b"
            ],
            [
             0.6666666666666666,
             "#ed7953"
            ],
            [
             0.7777777777777778,
             "#fb9f3a"
            ],
            [
             0.8888888888888888,
             "#fdca26"
            ],
            [
             1,
             "#f0f921"
            ]
           ]
          },
          "colorway": [
           "#636efa",
           "#EF553B",
           "#00cc96",
           "#ab63fa",
           "#FFA15A",
           "#19d3f3",
           "#FF6692",
           "#B6E880",
           "#FF97FF",
           "#FECB52"
          ],
          "font": {
           "color": "#2a3f5f"
          },
          "geo": {
           "bgcolor": "white",
           "lakecolor": "white",
           "landcolor": "#E5ECF6",
           "showlakes": true,
           "showland": true,
           "subunitcolor": "white"
          },
          "hoverlabel": {
           "align": "left"
          },
          "hovermode": "closest",
          "mapbox": {
           "style": "light"
          },
          "paper_bgcolor": "white",
          "plot_bgcolor": "#E5ECF6",
          "polar": {
           "angularaxis": {
            "gridcolor": "white",
            "linecolor": "white",
            "ticks": ""
           },
           "bgcolor": "#E5ECF6",
           "radialaxis": {
            "gridcolor": "white",
            "linecolor": "white",
            "ticks": ""
           }
          },
          "scene": {
           "xaxis": {
            "backgroundcolor": "#E5ECF6",
            "gridcolor": "white",
            "gridwidth": 2,
            "linecolor": "white",
            "showbackground": true,
            "ticks": "",
            "zerolinecolor": "white"
           },
           "yaxis": {
            "backgroundcolor": "#E5ECF6",
            "gridcolor": "white",
            "gridwidth": 2,
            "linecolor": "white",
            "showbackground": true,
            "ticks": "",
            "zerolinecolor": "white"
           },
           "zaxis": {
            "backgroundcolor": "#E5ECF6",
            "gridcolor": "white",
            "gridwidth": 2,
            "linecolor": "white",
            "showbackground": true,
            "ticks": "",
            "zerolinecolor": "white"
           }
          },
          "shapedefaults": {
           "line": {
            "color": "#2a3f5f"
           }
          },
          "ternary": {
           "aaxis": {
            "gridcolor": "white",
            "linecolor": "white",
            "ticks": ""
           },
           "baxis": {
            "gridcolor": "white",
            "linecolor": "white",
            "ticks": ""
           },
           "bgcolor": "#E5ECF6",
           "caxis": {
            "gridcolor": "white",
            "linecolor": "white",
            "ticks": ""
           }
          },
          "title": {
           "x": 0.05
          },
          "xaxis": {
           "automargin": true,
           "gridcolor": "white",
           "linecolor": "white",
           "ticks": "",
           "title": {
            "standoff": 15
           },
           "zerolinecolor": "white",
           "zerolinewidth": 2
          },
          "yaxis": {
           "automargin": true,
           "gridcolor": "white",
           "linecolor": "white",
           "ticks": "",
           "title": {
            "standoff": 15
           },
           "zerolinecolor": "white",
           "zerolinewidth": 2
          }
         }
        },
        "title": {
         "text": "Matriz de Riesgo: Amenaza Estática vs Precipitación"
        },
        "xaxis": {
         "anchor": "y",
         "domain": [
          0,
          1
         ],
         "title": {
          "text": "Precipitación Acumulada 72h (mm)"
         }
        },
        "yaxis": {
         "anchor": "x",
         "domain": [
          0,
          1
         ],
         "tickmode": "array",
         "ticktext": [
          "Baja",
          "Media",
          "Alta"
         ],
         "tickvals": [
          1,
          2,
          3
         ],
         "title": {
          "text": "Nivel de Amenaza Estática"
         }
        }
       }
      }
     },
     "metadata": {},
     "output_type": "display_data"
    },
    {
     "name": "stdout",
     "output_type": "stream",
     "text": [
      "📊 Matriz de riesgo generada\n",
      "======================================================================\n",
      "💾 RESULTADOS GUARDADOS\n",
      "======================================================================\n",
      "\n",
      "📁 Archivo guardado en:\n",
      "   ../data/02_processed/torres_con_amenaza_y_alerta.csv\n",
      "\n",
      "📊 Columnas incluidas:\n",
      "   • ID_Torre\n",
      "   • Nombre\n",
      "   • Latitud\n",
      "   • Longitud\n",
      "   • Amenaza_Valor_Continuo\n",
      "   • Amenaza_Valor\n",
      "   • Amenaza_Nivel\n",
      "   • Lluvia_72h\n",
      "   • Lluvia_24h\n",
      "   • Nivel_Alerta\n",
      "   • Emoji_Alerta\n",
      "   • Prioridad\n",
      "\n",
      "✅ ¡Análisis completado exitosamente!\n",
      "\n",
      "🚀 PRÓXIMOS PASOS:\n",
      "   1. Revisar torres en alerta ROJA o AMARILLA\n",
      "   2. Implementar acciones preventivas según protocolo\n",
      "   3. Ejecutar este notebook periódicamente para monitoreo continuo\n",
      "   4. Crear dashboard de Streamlit para visualización en tiempo real\n",
      "\n",
      "======================================================================\n",
      "REPORTE DE ALERTAS - SISTEMA DE MONITOREO DE TORRES\n",
      "======================================================================\n",
      "\n",
      "Fecha y Hora: 2025-10-11 20:25:17\n",
      "Total de Torres: 7\n",
      "\n",
      "RESUMEN DE ALERTAS:\n",
      "-------------------\n",
      "🔴 ROJAS (Críticas):      0 torre(s)\n",
      "🟡 AMARILLAS (Precaución): 0 torre(s)\n",
      "🟢 VERDES (Normal):       7 torre(s)\n",
      "\n",
      "\n",
      "======================================================================\n",
      "CRITERIOS DE ALERTA:\n",
      "\n",
      "Amenaza ALTA:\n",
      "   • Alerta AMARILLA: Precipitación > 60mm en 72h\n",
      "   • Alerta ROJA: Precipitación > 100mm en 72h\n",
      "\n",
      "Amenaza MEDIA:\n",
      "   • Alerta AMARILLA: Precipitación > 120mm en 72h\n",
      "\n",
      "Amenaza BAJA:\n",
      "   • Sin alertas automáticas\n",
      "======================================================================\n",
      "\n",
      "\n",
      "💾 Reporte guardado en: ../data/02_processed/reporte_alertas.txt\n"
     ]
    }
   ],
   "source": [
    "# ============================================================================\n",
    "# ANÁLISIS DE RIESGO DE TORRES DE TRANSMISIÓN\n",
    "# Combina: Amenaza estática + Precipitación actual = Nivel de alerta\n",
    "# ============================================================================\n",
    "\n",
    "# %% [markdown]\n",
    "# ## 1. Importar librerías\n",
    "\n",
    "# %%\n",
    "import pandas as pd\n",
    "import numpy as np\n",
    "import rasterio\n",
    "import requests\n",
    "import plotly.graph_objects as go\n",
    "import plotly.express as px\n",
    "from datetime import datetime, timedelta\n",
    "import warnings\n",
    "warnings.filterwarnings('ignore')\n",
    "\n",
    "print(\"✅ Librerías importadas\")\n",
    "\n",
    "# %% [markdown]\n",
    "# ## 2. Cargar ubicaciones de torres\n",
    "\n",
    "# %%\n",
    "# Cargar CSV de torres\n",
    "ruta_torres = \"../data/03_external/ubicacion_torres.csv\"\n",
    "torres_df = pd.read_csv(ruta_torres)\n",
    "\n",
    "print(\"=\" * 70)\n",
    "print(\"📍 TORRES CARGADAS\")\n",
    "print(\"=\" * 70)\n",
    "print(f\"\\nTotal de torres: {len(torres_df)}\")\n",
    "print(f\"\\nPrimeras torres:\")\n",
    "display(torres_df.head())\n",
    "\n",
    "# Validar datos\n",
    "print(f\"\\n✅ Rango de coordenadas:\")\n",
    "print(f\"   Latitud:  {torres_df['Latitud'].min():.4f} a {torres_df['Latitud'].max():.4f}\")\n",
    "print(f\"   Longitud: {torres_df['Longitud'].min():.4f} a {torres_df['Longitud'].max():.4f}\")\n",
    "\n",
    "# %% [markdown]\n",
    "# ## 2.5 Verificar cobertura del raster\n",
    "\n",
    "# %%\n",
    "print(\"🔍 Verificando cobertura del raster para las torres...\\n\")\n",
    "\n",
    "ruta_tiff_original = \"../data/01_raw/AmeMM_100k.tif\"\n",
    "\n",
    "with rasterio.open(ruta_tiff_original) as src:\n",
    "    bounds = src.bounds\n",
    "    \n",
    "    print(f\"📊 Límites del raster:\")\n",
    "    print(f\"   Norte: {bounds.top:.4f}°\")\n",
    "    print(f\"   Sur:   {bounds.bottom:.4f}°\")\n",
    "    print(f\"   Este:  {bounds.right:.4f}°\")\n",
    "    print(f\"   Oeste: {bounds.left:.4f}°\")\n",
    "    \n",
    "    print(f\"\\n📍 Límites de las torres:\")\n",
    "    print(f\"   Norte: {torres_df['Latitud'].max():.4f}°\")\n",
    "    print(f\"   Sur:   {torres_df['Latitud'].min():.4f}°\")\n",
    "    print(f\"   Este:  {torres_df['Longitud'].max():.4f}°\")\n",
    "    print(f\"   Oeste: {torres_df['Longitud'].min():.4f}°\")\n",
    "    \n",
    "    # Verificar si las torres están dentro del raster\n",
    "    torres_dentro = 0\n",
    "    torres_fuera = []\n",
    "    \n",
    "    for idx, torre in torres_df.iterrows():\n",
    "        lat, lon = torre['Latitud'], torre['Longitud']\n",
    "        \n",
    "        if (bounds.bottom <= lat <= bounds.top and \n",
    "            bounds.left <= lon <= bounds.right):\n",
    "            torres_dentro += 1\n",
    "        else:\n",
    "            torres_fuera.append(torre['ID_Torre'])\n",
    "    \n",
    "    print(f\"\\n✅ Torres dentro del raster: {torres_dentro}/{len(torres_df)}\")\n",
    "    \n",
    "    if torres_fuera:\n",
    "        print(f\"⚠️  Torres FUERA del raster: {len(torres_fuera)}\")\n",
    "        print(f\"   {', '.join(torres_fuera)}\")\n",
    "        print(\"\\n   💡 Estas torres no tendrán datos de amenaza\")\n",
    "    else:\n",
    "        print(\"✅ Todas las torres están dentro del área del raster\")\n",
    "\n",
    "# %% [markdown]\n",
    "# ## 3. Extraer nivel de amenaza estática para cada torre\n",
    "# \n",
    "# Lee directamente del TIFF original y clasifica\n",
    "\n",
    "# %%\n",
    "# Ruta al archivo ORIGINAL\n",
    "ruta_tiff_original = \"../data/01_raw/AmeMM_100k.tif\"\n",
    "\n",
    "print(\"🔍 Extrayendo valores de amenaza para cada torre...\\n\")\n",
    "\n",
    "# Crear lista de coordenadas (lon, lat)\n",
    "coords = [(lon, lat) for lon, lat in zip(torres_df['Longitud'], torres_df['Latitud'])]\n",
    "\n",
    "# Extraer valores del raster ORIGINAL\n",
    "with rasterio.open(ruta_tiff_original) as src:\n",
    "    print(f\"📊 Raster: {src.width}x{src.height} píxeles\")\n",
    "    print(f\"🌍 CRS: {src.crs}\")\n",
    "    print(f\"📍 Límites: {src.bounds}\\n\")\n",
    "    \n",
    "    # Muestrear el raster en las coordenadas de las torres\n",
    "    valores_amenaza_continuos = []\n",
    "    \n",
    "    for i, (lon, lat) in enumerate(coords):\n",
    "        torre_id = torres_df.iloc[i]['ID_Torre']\n",
    "        try:\n",
    "            # Intentar muestrear\n",
    "            valor = list(src.sample([(lon, lat)]))[0][0]\n",
    "            \n",
    "            # Verificar si es NoData\n",
    "            if src.nodata is not None and valor == src.nodata:\n",
    "                print(f\"   ⚠️  {torre_id}: Sin datos en esta ubicación\")\n",
    "                valores_amenaza_continuos.append(np.nan)\n",
    "            else:\n",
    "                print(f\"   ✅ {torre_id}: Valor = {valor:.2f}\")\n",
    "                valores_amenaza_continuos.append(valor)\n",
    "        except Exception as e:\n",
    "            print(f\"   ❌ {torre_id}: Error - {e}\")\n",
    "            valores_amenaza_continuos.append(np.nan)\n",
    "\n",
    "# Agregar valores continuos al dataframe\n",
    "torres_df['Amenaza_Valor_Continuo'] = valores_amenaza_continuos\n",
    "\n",
    "# Calcular umbrales si hay datos válidos\n",
    "valores_validos = [v for v in valores_amenaza_continuos if not np.isnan(v)]\n",
    "\n",
    "if len(valores_validos) > 0:\n",
    "    # Calcular percentiles para clasificación\n",
    "    umbral_bajo = np.percentile(valores_validos, 33)\n",
    "    umbral_alto = np.percentile(valores_validos, 66)\n",
    "    \n",
    "    print(f\"\\n🎯 Umbrales calculados:\")\n",
    "    print(f\"   🟢 Baja:  ≤ {umbral_bajo:.2f}\")\n",
    "    print(f\"   🟡 Media: > {umbral_bajo:.2f} y ≤ {umbral_alto:.2f}\")\n",
    "    print(f\"   🔴 Alta:  > {umbral_alto:.2f}\")\n",
    "    \n",
    "    # Clasificar valores\n",
    "    def clasificar_amenaza(valor):\n",
    "        if np.isnan(valor):\n",
    "            return 0, 'Sin Datos'\n",
    "        elif valor <= umbral_bajo:\n",
    "            return 1, 'Baja'\n",
    "        elif valor <= umbral_alto:\n",
    "            return 2, 'Media'\n",
    "        else:\n",
    "            return 3, 'Alta'\n",
    "    \n",
    "    torres_df[['Amenaza_Valor', 'Amenaza_Nivel']] = torres_df['Amenaza_Valor_Continuo'].apply(\n",
    "        lambda x: pd.Series(clasificar_amenaza(x))\n",
    "    )\n",
    "else:\n",
    "    print(\"\\n❌ No se encontraron datos válidos para ninguna torre\")\n",
    "    print(\"   Verifica que las coordenadas estén dentro del área del raster\")\n",
    "    torres_df['Amenaza_Valor'] = 0\n",
    "    torres_df['Amenaza_Nivel'] = 'Sin Datos'\n",
    "\n",
    "# Mostrar resultados\n",
    "print(\"\\n✅ Valores de amenaza extraídos:\\n\")\n",
    "\n",
    "# Filtrar solo columnas relevantes\n",
    "columnas_mostrar = ['ID_Torre', 'Nombre', 'Latitud', 'Longitud', \n",
    "                    'Amenaza_Valor_Continuo', 'Amenaza_Nivel']\n",
    "display(torres_df[columnas_mostrar])\n",
    "\n",
    "# Resumen\n",
    "print(f\"\\n📊 Distribución de amenaza en torres:\")\n",
    "distribucion = torres_df['Amenaza_Nivel'].value_counts()\n",
    "for nivel in ['Baja', 'Media', 'Alta', 'Sin Datos']:\n",
    "    count = distribucion.get(nivel, 0)\n",
    "    if count > 0:\n",
    "        emoji = {'Baja': '🟢', 'Media': '🟡', 'Alta': '🔴', 'Sin Datos': '⚪'}\n",
    "        print(f\"   {emoji[nivel]} {nivel}: {count} torres\")\n",
    "\n",
    "# Advertencia si hay torres sin datos\n",
    "torres_sin_datos = (torres_df['Amenaza_Nivel'] == 'Sin Datos').sum()\n",
    "if torres_sin_datos > 0:\n",
    "    print(f\"\\n⚠️  ADVERTENCIA: {torres_sin_datos} torre(s) sin datos\")\n",
    "    print(\"   Posibles causas:\")\n",
    "    print(\"   • Las coordenadas están fuera del área cubierta por el raster\")\n",
    "    print(\"   • Error en el sistema de coordenadas (CRS)\")\n",
    "    print(\"   • Valores NoData en esas ubicaciones del raster\")\n",
    "    print(\"\\n   Solución: Verifica las coordenadas o usa un raster que cubra toda el área\")\n",
    "\n",
    "# %% [markdown]\n",
    "# ## 4. Obtener datos de precipitación de Open-Meteo\n",
    "# \n",
    "# Obtenemos datos de las últimas 72 horas para calcular acumulados\n",
    "\n",
    "# %%\n",
    "def obtener_lluvia_torre(lat, lon, dias_historico=3):\n",
    "    \"\"\"\n",
    "    Obtiene datos de precipitación de Open-Meteo para una ubicación.\n",
    "    \n",
    "    Args:\n",
    "        lat: Latitud\n",
    "        lon: Longitud\n",
    "        dias_historico: Días hacia atrás para obtener datos\n",
    "    \n",
    "    Returns:\n",
    "        DataFrame con datos de precipitación horaria\n",
    "    \"\"\"\n",
    "    # Calcular fechas\n",
    "    end_date = datetime.now()\n",
    "    start_date = end_date - timedelta(days=dias_historico)\n",
    "    \n",
    "    # Construir URL\n",
    "    url = (\n",
    "        \"https://api.open-meteo.com/v1/forecast?\"\n",
    "        f\"latitude={lat}&longitude={lon}\"\n",
    "        \"&hourly=precipitation\"\n",
    "        f\"&start_date={start_date.strftime('%Y-%m-%d')}\"\n",
    "        f\"&end_date={end_date.strftime('%Y-%m-%d')}\"\n",
    "    )\n",
    "    \n",
    "    try:\n",
    "        response = requests.get(url, timeout=10)\n",
    "        response.raise_for_status()\n",
    "        data = response.json()\n",
    "        \n",
    "        if 'hourly' in data and 'time' in data['hourly']:\n",
    "            df = pd.DataFrame(data['hourly'])\n",
    "            df['time'] = pd.to_datetime(df['time'])\n",
    "            return df\n",
    "        else:\n",
    "            return None\n",
    "    \n",
    "    except Exception as e:\n",
    "        print(f\"   ⚠️  Error obteniendo datos: {e}\")\n",
    "        return None\n",
    "\n",
    "\n",
    "print(\"🌧️  Obteniendo datos de precipitación para cada torre...\")\n",
    "print(\"   (Esto puede tomar 30-60 segundos)\\n\")\n",
    "\n",
    "# Lista para almacenar resultados\n",
    "datos_lluvia = []\n",
    "\n",
    "for idx, torre in torres_df.iterrows():\n",
    "    print(f\"   📡 {torre['ID_Torre']}: {torre['Nombre']}...\", end=\" \")\n",
    "    \n",
    "    df_lluvia = obtener_lluvia_torre(torre['Latitud'], torre['Longitud'], dias_historico=3)\n",
    "    \n",
    "    if df_lluvia is not None and not df_lluvia.empty:\n",
    "        # Calcular acumulado de 72 horas\n",
    "        lluvia_72h = df_lluvia['precipitation'].sum()\n",
    "        \n",
    "        # Últimas 24 horas\n",
    "        lluvia_24h = df_lluvia.tail(24)['precipitation'].sum()\n",
    "        \n",
    "        datos_lluvia.append({\n",
    "            'ID_Torre': torre['ID_Torre'],\n",
    "            'Lluvia_72h': lluvia_72h,\n",
    "            'Lluvia_24h': lluvia_24h\n",
    "        })\n",
    "        \n",
    "        print(f\"✅ {lluvia_72h:.1f}mm (72h)\")\n",
    "    else:\n",
    "        datos_lluvia.append({\n",
    "            'ID_Torre': torre['ID_Torre'],\n",
    "            'Lluvia_72h': 0,\n",
    "            'Lluvia_24h': 0\n",
    "        })\n",
    "        print(\"⚠️  Sin datos\")\n",
    "\n",
    "# Convertir a DataFrame y combinar\n",
    "df_lluvia_torres = pd.DataFrame(datos_lluvia)\n",
    "torres_df = torres_df.merge(df_lluvia_torres, on='ID_Torre', how='left')\n",
    "\n",
    "print(\"\\n✅ Datos de precipitación obtenidos\")\n",
    "\n",
    "# %% [markdown]\n",
    "# ## 5. Aplicar matriz de riesgo y calcular nivel de alerta\n",
    "# \n",
    "# Matriz de decisión:\n",
    "# - **Amenaza ALTA**: Alerta AMARILLA si lluvia > 60mm, ROJA si > 100mm\n",
    "# - **Amenaza MEDIA**: Alerta AMARILLA si lluvia > 120mm\n",
    "# - **Amenaza BAJA**: Sin alertas automáticas\n",
    "\n",
    "# %%\n",
    "def calcular_nivel_alerta(row):\n",
    "    \"\"\"\n",
    "    Calcula el nivel de alerta basado en amenaza estática y lluvia acumulada.\n",
    "    \"\"\"\n",
    "    amenaza = row['Amenaza_Nivel']\n",
    "    lluvia_72h = row['Lluvia_72h']\n",
    "    \n",
    "    if amenaza == 'Alta':\n",
    "        if lluvia_72h > 100:\n",
    "            return 'ROJA', '🔴'\n",
    "        elif lluvia_72h > 60:\n",
    "            return 'AMARILLA', '🟡'\n",
    "    elif amenaza == 'Media':\n",
    "        if lluvia_72h > 120:\n",
    "            return 'AMARILLA', '🟡'\n",
    "    \n",
    "    return 'VERDE', '🟢'\n",
    "\n",
    "# Aplicar función\n",
    "torres_df[['Nivel_Alerta', 'Emoji_Alerta']] = torres_df.apply(\n",
    "    calcular_nivel_alerta, axis=1, result_type='expand'\n",
    ")\n",
    "\n",
    "# Calcular prioridad (para ordenar)\n",
    "prioridad_map = {'ROJA': 3, 'AMARILLA': 2, 'VERDE': 1}\n",
    "torres_df['Prioridad'] = torres_df['Nivel_Alerta'].map(prioridad_map)\n",
    "\n",
    "# Ordenar por prioridad (más urgente primero)\n",
    "torres_df = torres_df.sort_values('Prioridad', ascending=False)\n",
    "\n",
    "print(\"=\" * 70)\n",
    "print(\"🚨 NIVEL DE ALERTA CALCULADO PARA CADA TORRE\")\n",
    "print(\"=\" * 70)\n",
    "print()\n",
    "\n",
    "# Mostrar tabla completa con colores\n",
    "display(torres_df[[\n",
    "    'ID_Torre', 'Nombre', 'Amenaza_Nivel', \n",
    "    'Lluvia_72h', 'Lluvia_24h', 'Emoji_Alerta', 'Nivel_Alerta'\n",
    "]].style.background_gradient(subset=['Lluvia_72h'], cmap='Blues'))\n",
    "\n",
    "# %% [markdown]\n",
    "# ## 6. Resumen ejecutivo\n",
    "\n",
    "# %%\n",
    "print(\"=\" * 70)\n",
    "print(\"📊 RESUMEN EJECUTIVO - SITUACIÓN ACTUAL\")\n",
    "print(\"=\" * 70)\n",
    "print(f\"\\n🕐 Fecha y hora: {datetime.now().strftime('%Y-%m-%d %H:%M:%S')}\")\n",
    "print(f\"📍 Total de torres monitoreadas: {len(torres_df)}\")\n",
    "\n",
    "print(\"\\n🚨 ALERTAS ACTIVAS:\")\n",
    "n_rojas = (torres_df['Nivel_Alerta'] == 'ROJA').sum()\n",
    "n_amarillas = (torres_df['Nivel_Alerta'] == 'AMARILLA').sum()\n",
    "n_verdes = (torres_df['Nivel_Alerta'] == 'VERDE').sum()\n",
    "\n",
    "print(f\"   🔴 ROJAS (Críticas):    {n_rojas} torres\")\n",
    "print(f\"   🟡 AMARILLAS (Precaución): {n_amarillas} torres\")\n",
    "print(f\"   🟢 VERDES (Normal):     {n_verdes} torres\")\n",
    "\n",
    "if n_rojas > 0:\n",
    "    print(f\"\\n⚠️  ATENCIÓN: {n_rojas} torre(s) en alerta ROJA requieren atención inmediata:\")\n",
    "    torres_rojas = torres_df[torres_df['Nivel_Alerta'] == 'ROJA']\n",
    "    for _, torre in torres_rojas.iterrows():\n",
    "        print(f\"      • {torre['ID_Torre']}: {torre['Nombre']} - {torre['Lluvia_72h']:.1f}mm en 72h\")\n",
    "\n",
    "if n_amarillas > 0:\n",
    "    print(f\"\\n⚠️  {n_amarillas} torre(s) en alerta AMARILLA requieren monitoreo:\")\n",
    "    torres_amarillas = torres_df[torres_df['Nivel_Alerta'] == 'AMARILLA']\n",
    "    for _, torre in torres_amarillas.iterrows():\n",
    "        print(f\"      • {torre['ID_Torre']}: {torre['Nombre']} - {torre['Lluvia_72h']:.1f}mm en 72h\")\n",
    "\n",
    "if n_rojas == 0 and n_amarillas == 0:\n",
    "    print(\"\\n✅ Todas las torres están en estado normal (VERDE)\")\n",
    "\n",
    "# %% [markdown]\n",
    "# ## 7. Visualización: Mapa interactivo de torres\n",
    "\n",
    "# %%\n",
    "# Crear mapa con Plotly\n",
    "fig = go.Figure()\n",
    "\n",
    "# Colores por nivel de alerta\n",
    "color_map = {\n",
    "    'VERDE': 'green',\n",
    "    'AMARILLA': 'orange',\n",
    "    'ROJA': 'red'\n",
    "}\n",
    "\n",
    "# Tamaños por nivel de alerta\n",
    "size_map = {\n",
    "    'VERDE': 10,\n",
    "    'AMARILLA': 15,\n",
    "    'ROJA': 20\n",
    "}\n",
    "\n",
    "for nivel in ['VERDE', 'AMARILLA', 'ROJA']:\n",
    "    torres_nivel = torres_df[torres_df['Nivel_Alerta'] == nivel]\n",
    "    \n",
    "    if not torres_nivel.empty:\n",
    "        fig.add_trace(go.Scattermapbox(\n",
    "            lat=torres_nivel['Latitud'],\n",
    "            lon=torres_nivel['Longitud'],\n",
    "            mode='markers',\n",
    "            marker=dict(\n",
    "                size=torres_nivel['Nivel_Alerta'].map(size_map),\n",
    "                color=color_map[nivel]\n",
    "            ),\n",
    "            text=torres_nivel.apply(\n",
    "                lambda x: f\"<b>{x['ID_Torre']}: {x['Nombre']}</b><br>\" +\n",
    "                         f\"Amenaza: {x['Amenaza_Nivel']}<br>\" +\n",
    "                         f\"Lluvia 72h: {x['Lluvia_72h']:.1f}mm<br>\" +\n",
    "                         f\"Alerta: {x['Nivel_Alerta']}\",\n",
    "                axis=1\n",
    "            ),\n",
    "            hoverinfo='text',\n",
    "            name=f'Alerta {nivel}'\n",
    "        ))\n",
    "\n",
    "# Configurar mapa\n",
    "fig.update_layout(\n",
    "    mapbox=dict(\n",
    "        style='open-street-map',\n",
    "        center=dict(\n",
    "            lat=torres_df['Latitud'].mean(),\n",
    "            lon=torres_df['Longitud'].mean()\n",
    "        ),\n",
    "        zoom=8\n",
    "    ),\n",
    "    title=dict(\n",
    "        text=f'Mapa de Torres con Nivel de Alerta - {datetime.now().strftime(\"%Y-%m-%d %H:%M\")}',\n",
    "        font=dict(size=18, color='black')\n",
    "    ),\n",
    "    height=600,\n",
    "    margin=dict(l=0, r=0, t=40, b=0)\n",
    ")\n",
    "\n",
    "fig.show()\n",
    "\n",
    "print(\"🗺️  Mapa interactivo generado\")\n",
    "print(\"   💡 Haz zoom y haz clic en los marcadores para ver detalles\")\n",
    "\n",
    "# %% [markdown]\n",
    "# ## 8. Gráfico: Lluvia acumulada vs. Umbrales de alerta\n",
    "\n",
    "# %%\n",
    "fig = go.Figure()\n",
    "\n",
    "# Barras de lluvia acumulada coloreadas por nivel de alerta\n",
    "colores_barras = torres_df['Nivel_Alerta'].map(color_map)\n",
    "\n",
    "fig.add_trace(go.Bar(\n",
    "    x=torres_df['ID_Torre'],\n",
    "    y=torres_df['Lluvia_72h'],\n",
    "    marker=dict(color=colores_barras),\n",
    "    text=torres_df['Lluvia_72h'].round(1),\n",
    "    textposition='outside',\n",
    "    name='Lluvia 72h'\n",
    "))\n",
    "\n",
    "# Líneas de umbral según amenaza\n",
    "# Umbral crítico general (Alta amenaza)\n",
    "fig.add_hline(y=100, line_dash=\"dash\", line_color=\"red\", \n",
    "              annotation_text=\"Umbral ROJO (Alta: 100mm)\", \n",
    "              annotation_position=\"right\")\n",
    "fig.add_hline(y=60, line_dash=\"dash\", line_color=\"orange\", \n",
    "              annotation_text=\"Umbral AMARILLO (Alta: 60mm)\", \n",
    "              annotation_position=\"right\")\n",
    "\n",
    "fig.update_layout(\n",
    "    title=dict(\n",
    "        text='Precipitación Acumulada (72h) por Torre',\n",
    "        font=dict(size=16, color='black')\n",
    "    ),\n",
    "    xaxis_title='Torre',\n",
    "    yaxis_title='Precipitación (mm)',\n",
    "    height=500,\n",
    "    showlegend=False,\n",
    "    hovermode='x unified'\n",
    ")\n",
    "\n",
    "fig.show()\n",
    "\n",
    "print(\"📊 Gráfico de barras generado\")\n",
    "\n",
    "# %% [markdown]\n",
    "# ## 9. Gráfico: Matriz de riesgo (Amenaza vs Lluvia)\n",
    "\n",
    "# %%\n",
    "fig = px.scatter(\n",
    "    torres_df,\n",
    "    x='Lluvia_72h',\n",
    "    y='Amenaza_Valor',\n",
    "    color='Nivel_Alerta',\n",
    "    color_discrete_map=color_map,\n",
    "    size='Prioridad',\n",
    "    size_max=20,\n",
    "    hover_data=['ID_Torre', 'Nombre', 'Amenaza_Nivel'],\n",
    "    labels={\n",
    "        'Lluvia_72h': 'Precipitación Acumulada 72h (mm)',\n",
    "        'Amenaza_Valor': 'Nivel de Amenaza Estática'\n",
    "    },\n",
    "    title='Matriz de Riesgo: Amenaza Estática vs Precipitación'\n",
    ")\n",
    "\n",
    "# Agregar zonas de riesgo\n",
    "fig.add_vrect(x0=0, x1=60, fillcolor=\"green\", opacity=0.1, line_width=0)\n",
    "fig.add_vrect(x0=60, x1=100, fillcolor=\"yellow\", opacity=0.1, line_width=0)\n",
    "fig.add_vrect(x0=100, x1=torres_df['Lluvia_72h'].max()*1.1, \n",
    "              fillcolor=\"red\", opacity=0.1, line_width=0)\n",
    "\n",
    "# Ajustar eje Y para mostrar categorías\n",
    "fig.update_yaxes(\n",
    "    tickmode='array',\n",
    "    tickvals=[1, 2, 3],\n",
    "    ticktext=['Baja', 'Media', 'Alta']\n",
    ")\n",
    "\n",
    "fig.update_layout(height=500)\n",
    "fig.show()\n",
    "\n",
    "print(\"📊 Matriz de riesgo generada\")\n",
    "\n",
    "# %% [markdown]\n",
    "# ## 10. Guardar resultados\n",
    "\n",
    "# %%\n",
    "# Guardar tabla completa\n",
    "ruta_salida = \"../data/02_processed/torres_con_amenaza_y_alerta.csv\"\n",
    "torres_df.to_csv(ruta_salida, index=False)\n",
    "\n",
    "print(\"=\" * 70)\n",
    "print(\"💾 RESULTADOS GUARDADOS\")\n",
    "print(\"=\" * 70)\n",
    "print(f\"\\n📁 Archivo guardado en:\")\n",
    "print(f\"   {ruta_salida}\")\n",
    "\n",
    "print(f\"\\n📊 Columnas incluidas:\")\n",
    "for col in torres_df.columns:\n",
    "    print(f\"   • {col}\")\n",
    "\n",
    "print(\"\\n✅ ¡Análisis completado exitosamente!\")\n",
    "print(\"\\n🚀 PRÓXIMOS PASOS:\")\n",
    "print(\"   1. Revisar torres en alerta ROJA o AMARILLA\")\n",
    "print(\"   2. Implementar acciones preventivas según protocolo\")\n",
    "print(\"   3. Ejecutar este notebook periódicamente para monitoreo continuo\")\n",
    "print(\"   4. Crear dashboard de Streamlit para visualización en tiempo real\")\n",
    "\n",
    "# %% [markdown]\n",
    "# ## 11. Reporte en texto para compartir\n",
    "\n",
    "# %%\n",
    "# Generar reporte de texto\n",
    "reporte = f\"\"\"\n",
    "{'='*70}\n",
    "REPORTE DE ALERTAS - SISTEMA DE MONITOREO DE TORRES\n",
    "{'='*70}\n",
    "\n",
    "Fecha y Hora: {datetime.now().strftime('%Y-%m-%d %H:%M:%S')}\n",
    "Total de Torres: {len(torres_df)}\n",
    "\n",
    "RESUMEN DE ALERTAS:\n",
    "-------------------\n",
    "🔴 ROJAS (Críticas):      {n_rojas} torre(s)\n",
    "🟡 AMARILLAS (Precaución): {n_amarillas} torre(s)\n",
    "🟢 VERDES (Normal):       {n_verdes} torre(s)\n",
    "\n",
    "\"\"\"\n",
    "\n",
    "if n_rojas > 0:\n",
    "    reporte += \"\\nTORRES EN ALERTA ROJA (ACCIÓN INMEDIATA REQUERIDA):\\n\"\n",
    "    reporte += \"-\" * 70 + \"\\n\"\n",
    "    for _, torre in torres_rojas.iterrows():\n",
    "        reporte += f\"\"\"\n",
    "Torre: {torre['ID_Torre']} - {torre['Nombre']}\n",
    "   • Ubicación: {torre['Latitud']:.4f}°, {torre['Longitud']:.4f}°\n",
    "   • Amenaza Estática: {torre['Amenaza_Nivel']}\n",
    "   • Precipitación 72h: {torre['Lluvia_72h']:.1f} mm\n",
    "   • Precipitación 24h: {torre['Lluvia_24h']:.1f} mm\n",
    "   • NIVEL DE ALERTA: 🔴 ROJA\n",
    "\"\"\"\n",
    "\n",
    "if n_amarillas > 0:\n",
    "    reporte += \"\\nTORRES EN ALERTA AMARILLA (MONITOREO REQUERIDO):\\n\"\n",
    "    reporte += \"-\" * 70 + \"\\n\"\n",
    "    for _, torre in torres_amarillas.iterrows():\n",
    "        reporte += f\"\"\"\n",
    "Torre: {torre['ID_Torre']} - {torre['Nombre']}\n",
    "   • Ubicación: {torre['Latitud']:.4f}°, {torre['Longitud']:.4f}°\n",
    "   • Amenaza Estática: {torre['Amenaza_Nivel']}\n",
    "   • Precipitación 72h: {torre['Lluvia_72h']:.1f} mm\n",
    "   • Precipitación 24h: {torre['Lluvia_24h']:.1f} mm\n",
    "   • NIVEL DE ALERTA: 🟡 AMARILLA\n",
    "\"\"\"\n",
    "\n",
    "reporte += f\"\"\"\n",
    "{'='*70}\n",
    "CRITERIOS DE ALERTA:\n",
    "\n",
    "Amenaza ALTA:\n",
    "   • Alerta AMARILLA: Precipitación > 60mm en 72h\n",
    "   • Alerta ROJA: Precipitación > 100mm en 72h\n",
    "\n",
    "Amenaza MEDIA:\n",
    "   • Alerta AMARILLA: Precipitación > 120mm en 72h\n",
    "\n",
    "Amenaza BAJA:\n",
    "   • Sin alertas automáticas\n",
    "{'='*70}\n",
    "\"\"\"\n",
    "\n",
    "# Guardar reporte\n",
    "with open(\"../data/02_processed/reporte_alertas.txt\", \"w\", encoding='utf-8') as f:\n",
    "    f.write(reporte)\n",
    "\n",
    "print(reporte)\n",
    "print(\"\\n💾 Reporte guardado en: ../data/02_processed/reporte_alertas.txt\")"
   ]
  }
 ],
 "metadata": {
  "kernelspec": {
   "display_name": "venv",
   "language": "python",
   "name": "python3"
  },
  "language_info": {
   "codemirror_mode": {
    "name": "ipython",
    "version": 3
   },
   "file_extension": ".py",
   "mimetype": "text/x-python",
   "name": "python",
   "nbconvert_exporter": "python",
   "pygments_lexer": "ipython3",
   "version": "3.12.12"
  }
 },
 "nbformat": 4,
 "nbformat_minor": 5
}
